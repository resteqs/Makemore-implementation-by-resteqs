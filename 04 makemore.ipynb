{
 "cells": [
  {
   "cell_type": "code",
   "execution_count": 22,
   "metadata": {},
   "outputs": [],
   "source": [
    "import torch\n",
    "import torch.nn.functional as F\n",
    "import matplotlib.pyplot as plt #for making figures\n",
    "%matplotlib inline"
   ]
  },
  {
   "cell_type": "code",
   "execution_count": 23,
   "metadata": {},
   "outputs": [
    {
     "name": "stdout",
     "output_type": "stream",
     "text": [
      "{1: 'a', 2: 'b', 3: 'c', 4: 'd', 5: 'e', 6: 'f', 7: 'g', 8: 'h', 9: 'i', 10: 'j', 11: 'k', 12: 'l', 13: 'm', 14: 'n', 15: 'o', 16: 'p', 17: 'q', 18: 'r', 19: 's', 20: 't', 21: 'u', 22: 'v', 23: 'w', 24: 'x', 25: 'y', 26: 'z', 0: '.'}\n"
     ]
    }
   ],
   "source": [
    "words = open(\"names.txt\", \"r\").read().splitlines()\n",
    "#String to integer and integer to string mappings have been created\n",
    "chars = sorted(list(set( \"\".join(words))))\n",
    "stoi = {s:i+1 for i,s in enumerate(chars)}\n",
    "stoi[\".\"] = 0\n",
    "itos = {i:s for s,i in stoi.items()}\n",
    "vocab_size = len(itos)\n",
    "print(itos)"
   ]
  },
  {
   "cell_type": "code",
   "execution_count": 24,
   "metadata": {},
   "outputs": [
    {
     "name": "stdout",
     "output_type": "stream",
     "text": [
      "torch.Size([182625, 3]) torch.Size([182625])\n",
      "torch.Size([22655, 3]) torch.Size([22655])\n",
      "torch.Size([22866, 3]) torch.Size([22866])\n"
     ]
    }
   ],
   "source": [
    "# build the dataset\n",
    "block_size = 3 # context length: how many characters do we take to predict the next one?\n",
    "\n",
    "def build_dataset(words):\n",
    "    X, Y = [], []\n",
    "\n",
    "    for w in words:\n",
    "        context = [0] * block_size\n",
    "        for ch in w + '.':\n",
    "            ix = stoi[ch]\n",
    "            X.append(context)\n",
    "            Y.append(ix)\n",
    "            context = context[1:] + [ix] # crop and append\n",
    "\n",
    "    X = torch.tensor(X)\n",
    "    Y = torch.tensor(Y)\n",
    "    print(X.shape, Y.shape)\n",
    "    return X, Y\n",
    "\n",
    "import random\n",
    "random.seed(42)\n",
    "random.shuffle(words)\n",
    "n1 = int(0.8*len(words))\n",
    "n2 = int(0.9*len(words))\n",
    "\n",
    "Xtr, Ytr = build_dataset(words[:n1])     # 80%\n",
    "Xdev, Ydev = build_dataset(words[n1:n2]) # 10%\n",
    "Xte, Yte = build_dataset(words[n2:])     # 10%\n"
   ]
  },
  {
   "cell_type": "code",
   "execution_count": 25,
   "metadata": {},
   "outputs": [],
   "source": [
    "def cmp(s, dt, t):\n",
    "    if t.grad is None:\n",
    "        print(f\"{s:15s} | Gradient is None\")\n",
    "        return\n",
    "    if dt.shape != t.grad.shape:\n",
    "        print(f\"{s:15s} | Shape mismatch: {dt.shape} vs {t.grad.shape}\")\n",
    "        return\n",
    "    ex = torch.equal(dt, t.grad)\n",
    "    app = torch.allclose(dt, t.grad)\n",
    "    maxdiff = (dt - t.grad).abs().max().item()\n",
    "    print(f'{s:15s} | exact: {str(ex):5s} | approximate: {str(app):5s} | maxdiff: {maxdiff}')\n"
   ]
  },
  {
   "cell_type": "markdown",
   "metadata": {},
   "source": [
    "### Slightly chnaged initialisation compared to lecture 02\n",
    "The reason we want to have all these small numbers instead of e.g 0 like previously is, that we want to ensure, that any incorrect implementation of the backpropagation is clearly visible"
   ]
  },
  {
   "cell_type": "code",
   "execution_count": 26,
   "metadata": {},
   "outputs": [
    {
     "name": "stdout",
     "output_type": "stream",
     "text": [
      "4073\n"
     ]
    }
   ],
   "source": [
    "n_embd = 10  # the dimensionality of the character embedding vectors\n",
    "n_hidden = 64  # the number of neurons in the hidden layer of the MLP\n",
    "\n",
    "g = torch.Generator().manual_seed(2147483647)  # for reproducibility\n",
    "C = torch.randn((vocab_size, n_embd), generator=g)\n",
    "W1 = torch.randn((n_embd * block_size, n_hidden), generator=g) *(5/3) / (n_embd * block_size)**0.5 #Kaiming initialisation\n",
    "b1 = torch.randn(n_hidden, generator=g) * 0.1 #Not needed anymore, look in the training code\n",
    "W2 = torch.randn((n_hidden, vocab_size), generator=g) * 0.1\n",
    "b2 = torch.randn(vocab_size, generator=g) * 0.1\n",
    "\n",
    "#Calcuklating the mean and std dev of the entire training set during training\n",
    "bngain= torch.randn((1, n_hidden)) * 0.1 + 1.0 # Mean of normal distribution will be intially around 1\n",
    "bnbias = torch.randn((1, n_hidden))*0.1 # std dev of normal distribution will be intially arounf 0 \n",
    "\n",
    "\n",
    "parameters = [C, W1, W2, b2, bngain, bnbias]\n",
    "print(sum(p.nelement() for p in parameters))  # number of parameters in total\n",
    "for p in parameters:\n",
    "    p.requires_grad = True"
   ]
  },
  {
   "cell_type": "code",
   "execution_count": 27,
   "metadata": {},
   "outputs": [],
   "source": [
    "batch_size = 32\n",
    "n = batch_size #using a shorter variable for convienience lmao\n",
    "ix = torch.randint(0, Xtr.shape[0], (batch_size,), generator=g)\n",
    "Xb, Yb = Xtr[ix], Ytr[ix]  # batch X,Y"
   ]
  },
  {
   "cell_type": "code",
   "execution_count": 28,
   "metadata": {},
   "outputs": [
    {
     "data": {
      "text/plain": [
       "tensor(3.3596, grad_fn=<NegBackward0>)"
      ]
     },
     "execution_count": 28,
     "metadata": {},
     "output_type": "execute_result"
    }
   ],
   "source": [
    "# forward pass, \"chunkated\" into smaller steps that are possible to backward one at a time\n",
    "\n",
    "emb = C[Xb] # embed the characters into vectors\n",
    "embcat = emb.view(emb.shape[0], -1) # concatenate the vectors\n",
    "# Linear layer 1\n",
    "hprebn = embcat @ W1 + b1 # hidden layer pre-activation\n",
    "# BatchNorm layer\n",
    "bnmeani = 1/n*hprebn.sum(0, keepdim=True)\n",
    "bndiff = hprebn - bnmeani\n",
    "bndiff2 = bndiff**2\n",
    "bnvar = 1/(n-1)*(bndiff2).sum(0, keepdim=True) # note: Bessel's correction (dividing by n-1, not n)\n",
    "bnvar_inv = (bnvar + 1e-5)**-0.5\n",
    "bnraw = bndiff * bnvar_inv\n",
    "hpreact = bngain * bnraw + bnbias\n",
    "# Non-linearity\n",
    "h = torch.tanh(hpreact) # hidden layer\n",
    "# Linear layer 2\n",
    "logits = h @ W2 + b2 # output layer\n",
    "# cross entropy loss (same as F.cross_entropy(logits, Yb))\n",
    "logit_maxes = logits.max(1, keepdim=True).values\n",
    "norm_logits = logits - logit_maxes # subtract max for numerical stability\n",
    "counts = norm_logits.exp()\n",
    "counts_sum = counts.sum(1, keepdims=True)\n",
    "counts_sum_inv = counts_sum**-1 # if I use (1.0 / counts_sum) instead then I can't get backprop to be bit exact...\n",
    "probs = counts * counts_sum_inv\n",
    "logprobs = probs.log()\n",
    "loss = -logprobs[range(n), Yb].mean()\n",
    "\n",
    "\n",
    "#PyTorch backward pass\n",
    "for p in parameters:\n",
    "    p.grad = None\n",
    "for t in [logprobs, probs, counts, counts_sum, counts_sum_inv, norm_logits, logit_maxes, logits, h, hpreact, bnraw,\n",
    "          bnvar_inv, bnvar, bndiff2, bndiff, hprebn, bnmeani, embcat, emb]:\n",
    "    t.retain_grad()\n",
    "loss.backward()\n",
    "loss"
   ]
  },
  {
   "cell_type": "markdown",
   "metadata": {},
   "source": [
    "# Manual Backpropagation\n",
    "\n",
    "Starting from the end create a derivative in respect for every variable line by line. Make sure to apply chain rule eg: b = ax +h -> dL/da = dL/db * db/da.\n",
    "If a variable is on the left side multiple times, our graph is \"split\" into 2 parts, we therefore need to sum the local derivatives eg:\n",
    "b = ax + h\n",
    "c = ay \n",
    "\n",
    "-> dL/da = dL/db * db/da + dL/dc * dc/da\n",
    "\n",
    "\n",
    "### Broadcasting and Sum\n",
    "\n",
    "Every time we have a broadcasting [1, 64] -> [32, 64] in the forward pass we will have a sumation in the backward pass ```[32, 64].sum(0, keepdim = True) ->[1,64]``` </br>\n",
    "And vice versa:</br>\n",
    "Sumation in the forward pass -> broadcasting in the backwardpass\n",
    "[32, 64] -> [1, 64] and ```[1, 64] * torch.ones_like([32,64])```\n",
    "\n",
    "### Exkurs: Bessels correction\n",
    "\n",
    "<img src = \"besselscorrection.png\"/>\n",
    "<img src = \"besselcorr2.png\"/>\n",
    "\n",
    "Therefore we calculate the variance of the mini batch using the unbiased variance \n",
    "```python\n",
    "bnvar = 1/(n-1)*(bndiff2).sum(0, keepdim=True)\n",
    "```\n",
    "The math proof is in the [paper](https://math.oxford.emory.edu/site/math117/besselCorrection/)"
   ]
  },
  {
   "cell_type": "code",
   "execution_count": null,
   "metadata": {},
   "outputs": [],
   "source": []
  },
  {
   "cell_type": "code",
   "execution_count": 29,
   "metadata": {},
   "outputs": [
    {
     "name": "stdout",
     "output_type": "stream",
     "text": [
      "logprobs        | exact: True  | approximate: True  | maxdiff: 0.0\n",
      "probs           | exact: True  | approximate: True  | maxdiff: 0.0\n",
      "counts_sum_inv  | exact: True  | approximate: True  | maxdiff: 0.0\n",
      "counts_sum      | exact: True  | approximate: True  | maxdiff: 0.0\n",
      "counts          | exact: True  | approximate: True  | maxdiff: 0.0\n",
      "norm_logits     | exact: True  | approximate: True  | maxdiff: 0.0\n",
      "logit_maxes     | exact: True  | approximate: True  | maxdiff: 0.0\n",
      "logits          | exact: True  | approximate: True  | maxdiff: 0.0\n",
      "h               | exact: True  | approximate: True  | maxdiff: 0.0\n",
      "W2              | exact: True  | approximate: True  | maxdiff: 0.0\n",
      "b2              | exact: True  | approximate: True  | maxdiff: 0.0\n",
      "hpreact         | exact: True  | approximate: True  | maxdiff: 0.0\n",
      "bngain          | exact: True  | approximate: True  | maxdiff: 0.0\n",
      "bnbias          | exact: True  | approximate: True  | maxdiff: 0.0\n",
      "bnraw           | exact: True  | approximate: True  | maxdiff: 0.0\n",
      "bnvar_inv       | exact: True  | approximate: True  | maxdiff: 0.0\n",
      "bnvar           | exact: True  | approximate: True  | maxdiff: 0.0\n",
      "bndiff2         | exact: True  | approximate: True  | maxdiff: 0.0\n",
      "bndiff          | exact: True  | approximate: True  | maxdiff: 0.0\n",
      "bnmeani         | exact: True  | approximate: True  | maxdiff: 0.0\n",
      "hprebn          | exact: True  | approximate: True  | maxdiff: 0.0\n",
      "embcat          | exact: True  | approximate: True  | maxdiff: 0.0\n",
      "W1              | exact: True  | approximate: True  | maxdiff: 0.0\n",
      "b1              | Gradient is None\n",
      "emb             | exact: True  | approximate: True  | maxdiff: 0.0\n",
      "C               | exact: True  | approximate: True  | maxdiff: 0.0\n"
     ]
    }
   ],
   "source": [
    "# Exercise 1: backprop through the whole thing manually, \n",
    "# backpropagating through exactly all of the variables \n",
    "# as they are defined in the forward pass above, one by one\n",
    "\n",
    "dlogprobs = torch.zeros_like(logprobs)\n",
    "dlogprobs[range(n), Yb] = -1.0/n\n",
    "dprobs = (1.0 / probs) * dlogprobs\n",
    "dcounts_sum_inv = (counts * dprobs).sum(1, keepdim = True)\n",
    "dcounts = counts_sum_inv * dprobs\n",
    "dcounts_sum = (- counts_sum ** -2) *  dcounts_sum_inv\n",
    "dcounts += dcounts_sum * torch.ones_like(counts)\n",
    "dnorm_logits = dcounts * norm_logits.exp()\n",
    "dlogits = dnorm_logits.clone()\n",
    "dlogit_maxes = (-dnorm_logits).sum(1, keepdim = True)\n",
    "temp = torch.zeros([32,27])\n",
    "temp[torch.arange(0,n),torch.reshape(logits.max(1, keepdim=True).indices, (1,32))] = 1\n",
    "dlogits += temp * dlogit_maxes \n",
    "dh = dlogits @ torch.t(W2)\n",
    "dW2 = torch.t(h) @dlogits\n",
    "db2 = dlogits.sum(0)\n",
    "dhpreact = (1.0 - torch.tanh(hpreact) ** 2.0) * dh\n",
    "dbngain = (bnraw * dhpreact).sum(0, keepdim = True)\n",
    "dbnraw = bngain * dhpreact\n",
    "dbnbias = dhpreact.sum(0, keepdim=True)\n",
    "dbnvar_inv = (bndiff * dbnraw).sum(0, keepdim = True)\n",
    "dbnvar = (-0.5 * (bnvar + 1e-5)** -1.5) * dbnvar_inv\n",
    "dbndiff2 = (1.0/(n-1.0)) * dbnvar * torch.ones_like(bndiff2)\n",
    "dbndiff = 2 * bndiff * dbndiff2\n",
    "dbndiff += bnvar_inv * dbnraw\n",
    "dhprebn = dbndiff.clone()\n",
    "dbnmeani = -dbndiff.clone().sum(0, keepdim = True)\n",
    "dhprebn += 1.0/n * torch.ones_like(hprebn)*  dbnmeani\n",
    "dembcat = dhprebn @ torch.t(W1)\n",
    "dW1 = torch.t(embcat) @dhprebn\n",
    "db1 = dhprebn.sum(0)\n",
    "demb = dembcat.clone().view(emb.shape)\n",
    "dC = torch.zeros_like(C)\n",
    "for k in range(Xb.shape[0]):\n",
    "    for j in range(Xb.shape[1]):\n",
    "        ix = Xb[k,j]\n",
    "        dC[ix] += demb[k,j]\n",
    "\n",
    "\n",
    "\n",
    "cmp('logprobs', dlogprobs, logprobs)\n",
    "cmp('probs', dprobs, probs)\n",
    "cmp('counts_sum_inv', dcounts_sum_inv, counts_sum_inv)\n",
    "cmp('counts_sum', dcounts_sum, counts_sum)\n",
    "cmp('counts', dcounts, counts)\n",
    "cmp('norm_logits', dnorm_logits, norm_logits)\n",
    "cmp('logit_maxes', dlogit_maxes, logit_maxes)\n",
    "cmp('logits', dlogits, logits)\n",
    "cmp('h', dh, h)\n",
    "cmp('W2', dW2, W2)\n",
    "cmp('b2', db2, b2)\n",
    "cmp('hpreact', dhpreact, hpreact)\n",
    "cmp('bngain', dbngain, bngain)\n",
    "cmp('bnbias', dbnbias, bnbias)\n",
    "cmp('bnraw', dbnraw, bnraw)\n",
    "cmp('bnvar_inv', dbnvar_inv, bnvar_inv)\n",
    "cmp('bnvar', dbnvar, bnvar)\n",
    "cmp('bndiff2', dbndiff2, bndiff2)\n",
    "cmp('bndiff', dbndiff, bndiff)\n",
    "cmp('bnmeani', dbnmeani, bnmeani)\n",
    "cmp('hprebn', dhprebn, hprebn)\n",
    "cmp('embcat', dembcat, embcat)\n",
    "cmp('W1', dW1, W1)\n",
    "cmp('b1', db1, b1)\n",
    "cmp('emb', demb, emb)\n",
    "cmp('C', dC, C)\n"
   ]
  },
  {
   "cell_type": "code",
   "execution_count": 30,
   "metadata": {},
   "outputs": [
    {
     "name": "stderr",
     "output_type": "stream",
     "text": [
      "dot: graph is too large for cairo-renderer bitmaps. Scaling by 0.77001 to fit\n"
     ]
    },
    {
     "name": "stdout",
     "output_type": "stream",
     "text": [
      "Graph saved as backpropagation_graph.png\n"
     ]
    }
   ],
   "source": [
    "from graphviz import Digraph\n",
    "\n",
    "# Initialize the graph\n",
    "dot = Digraph()\n",
    "dot.attr(rankdir='LR')  # Set graph direction to left-to-right\n",
    "\n",
    "# Add nodes for each operation\n",
    "dot.node('Xb', 'Xb')\n",
    "dot.node('C', 'C')\n",
    "dot.node('emb', 'emb = C[Xb]')\n",
    "dot.node('embcat', 'embcat = emb.view(...)')\n",
    "dot.node('W1', 'W1')\n",
    "dot.node('b1', 'b1')\n",
    "dot.node('hprebn', 'hprebn = embcat @ W1 + b1')\n",
    "dot.node('bnmeani', 'bnmeani = mean(hprebn)')\n",
    "dot.node('bndiff', 'bndiff = hprebn - bnmeani')\n",
    "dot.node('bndiff2', 'bndiff2 = bndiff^2')\n",
    "dot.node('bnvar', 'bnvar = var(hprebn)')\n",
    "dot.node('bnvar_inv', 'bnvar_inv = (bnvar + 1e-5)^-0.5')\n",
    "dot.node('bnraw', 'bnraw = bndiff * bnvar_inv')\n",
    "dot.node('bngain', 'bngain')\n",
    "dot.node('bnbias', 'bnbias')\n",
    "dot.node('hpreact', 'hpreact = bngain * bnraw + bnbias')\n",
    "dot.node('tanh', 'h = tanh(hpreact)')\n",
    "dot.node('W2', 'W2')\n",
    "dot.node('b2', 'b2')\n",
    "dot.node('logits', 'logits = h @ W2 + b2')\n",
    "dot.node('logit_maxes', 'logit_maxes = logits.max(...)')\n",
    "dot.node('norm_logits', 'norm_logits = logits - logit_maxes')\n",
    "dot.node('counts', 'counts = exp(norm_logits)')\n",
    "dot.node('counts_sum', 'counts_sum = sum(counts)')\n",
    "dot.node('counts_sum_inv', 'counts_sum_inv = 1 / counts_sum')\n",
    "dot.node('probs', 'probs = counts * counts_sum_inv')\n",
    "dot.node('logprobs', 'logprobs = log(probs)')\n",
    "dot.node('loss', 'loss = -logprobs.mean()')\n",
    "\n",
    "# Add forward pass edges\n",
    "dot.edge('Xb', 'emb', label='Embedding lookup')\n",
    "dot.edge('C', 'emb', label='Embedding matrix')\n",
    "dot.edge('emb', 'embcat', label='Flatten')\n",
    "dot.edge('embcat', 'hprebn', label='Matrix multiply')\n",
    "dot.edge('W1', 'hprebn', label='Weights')\n",
    "dot.edge('b1', 'hprebn', label='Bias')\n",
    "dot.edge('hprebn', 'bnmeani', label='Mean')\n",
    "dot.edge('hprebn', 'bndiff', label='Difference')\n",
    "dot.edge('bnmeani', 'bndiff', label='Subtraction')\n",
    "dot.edge('bndiff', 'bndiff2', label='Square')\n",
    "dot.edge('bndiff2', 'bnvar', label='Variance')\n",
    "dot.edge('bnvar', 'bnvar_inv', label='Inverse sqrt')\n",
    "dot.edge('bnvar_inv', 'bnraw', label='Scale')\n",
    "dot.edge('bndiff', 'bnraw', label='Scale')\n",
    "dot.edge('bnraw', 'hpreact', label='Shift and scale')\n",
    "dot.edge('bngain', 'hpreact', label='Gain')\n",
    "dot.edge('bnbias', 'hpreact', label='Bias')\n",
    "dot.edge('hpreact', 'tanh', label='Tanh activation')\n",
    "dot.edge('tanh', 'logits', label='Matrix multiply')\n",
    "dot.edge('W2', 'logits', label='Weights')\n",
    "dot.edge('b2', 'logits', label='Bias')\n",
    "dot.edge('logits', 'logit_maxes', label='Max for stability')\n",
    "dot.edge('logit_maxes', 'norm_logits', label='Subtract max')\n",
    "dot.edge('logits', 'norm_logits', label='Subtract max')\n",
    "dot.edge('norm_logits', 'counts', label='Exponentiate')\n",
    "dot.edge('counts', 'counts_sum', label='Sum')\n",
    "dot.edge('counts_sum', 'counts_sum_inv', label='Inverse')\n",
    "dot.edge('counts', 'probs', label='Normalize')\n",
    "dot.edge('counts_sum_inv', 'probs', label='Normalize')\n",
    "dot.edge('probs', 'logprobs', label='Log')\n",
    "dot.edge('logprobs', 'loss', label='Mean and negate')\n",
    "\n",
    "# Add backward pass hints directly next to corresponding nodes\n",
    "dot.node('grad_loss', 'dL/dloss', shape='ellipse', color='red')\n",
    "dot.edge('loss', 'grad_loss', label='Backward pass')\n",
    "\n",
    "dot.node('grad_logprobs', 'dL/dlogprobs', shape='ellipse', color='red')\n",
    "dot.edge('grad_loss', 'grad_logprobs', label='Backward pass')\n",
    "\n",
    "dot.node('grad_probs', 'dL/dprobs', shape='ellipse', color='red')\n",
    "dot.edge('grad_logprobs', 'grad_probs', label='Backward pass')\n",
    "\n",
    "dot.node('grad_counts_sum_inv', 'dL/dcounts_sum_inv', shape='ellipse', color='red')\n",
    "dot.edge('grad_probs', 'grad_counts_sum_inv', label='Backward pass')\n",
    "\n",
    "dot.node('grad_counts', 'dL/dcounts', shape='ellipse', color='red')\n",
    "dot.edge('grad_probs', 'grad_counts', label='Backward pass')\n",
    "dot.edge('grad_counts_sum_inv', 'grad_counts', label='Backward pass')\n",
    "\n",
    "dot.node('grad_norm_logits', 'dL/dnorm_logits', shape='ellipse', color='red')\n",
    "dot.edge('grad_counts', 'grad_norm_logits', label='Backward pass')\n",
    "\n",
    "dot.node('grad_logits', 'dL/dlogits', shape='ellipse', color='red')\n",
    "dot.edge('grad_norm_logits', 'grad_logits', label='Backward pass')\n",
    "\n",
    "dot.node('grad_tanh', 'dL/dtanh', shape='ellipse', color='red')\n",
    "dot.edge('grad_logits', 'grad_tanh', label='Backward pass')\n",
    "\n",
    "dot.node('grad_hpreact', 'dL/dhpreact', shape='ellipse', color='red')\n",
    "dot.edge('grad_tanh', 'grad_hpreact', label='Backward pass')\n",
    "\n",
    "dot.node('grad_bnraw', 'dL/dbnraw', shape='ellipse', color='red')\n",
    "dot.edge('grad_hpreact', 'grad_bnraw', label='Backward pass')\n",
    "\n",
    "dot.node('grad_bndiff', 'dL/dbndiff', shape='ellipse', color='red')\n",
    "dot.edge('grad_bnraw', 'grad_bndiff', label='Backward pass')\n",
    "\n",
    "dot.node('grad_bnvar_inv', 'dL/dbnvar_inv', shape='ellipse', color='red')\n",
    "dot.edge('grad_bnraw', 'grad_bnvar_inv', label='Backward pass')\n",
    "\n",
    "dot.node('grad_bnvar', 'dL/dbnvar', shape='ellipse', color='red')\n",
    "dot.edge('grad_bnvar_inv', 'grad_bnvar', label='Backward pass')\n",
    "\n",
    "dot.node('grad_bndiff2', 'dL/dbndiff2', shape='ellipse', color='red')\n",
    "dot.edge('grad_bnvar', 'grad_bndiff2', label='Backward pass')\n",
    "\n",
    "dot.edge('grad_bndiff2', 'grad_bndiff', label='Backward pass')\n",
    "dot.edge('grad_bndiff', 'grad_hprebn', label='Backward pass')\n",
    "dot.edge('grad_hprebn', 'bnmeani', label='Backward pass')\n",
    "dot.edge('grad_hprebn', 'hprebn', label='Backward pass')\n",
    "\n",
    "dot.node('grad_embcat', 'dL/dembcat', shape='ellipse', color='red')\n",
    "dot.edge('grad_hprebn', 'grad_embcat', label='Backward pass')\n",
    "\n",
    "dot.node('grad_emb', 'dL/demb', shape='ellipse', color='red')\n",
    "dot.edge('grad_embcat', 'grad_emb', label='Backward pass')\n",
    "\n",
    "dot.node('grad_Xb', 'dL/dXb', shape='ellipse', color='red')\n",
    "dot.edge('grad_emb', 'grad_Xb', label='Backward pass')\n",
    "\n",
    "# Render the graph to a high-resolution PNG\n",
    "dot.format = 'png'\n",
    "dot.attr(dpi='300')\n",
    "dot.render('backpropagation_graph', view=True)\n",
    "\n",
    "print(\"Graph saved as backpropagation_graph.png\")\n"
   ]
  },
  {
   "cell_type": "code",
   "execution_count": 31,
   "metadata": {},
   "outputs": [
    {
     "name": "stdout",
     "output_type": "stream",
     "text": [
      "3.359632968902588 diff: 2.384185791015625e-07\n"
     ]
    }
   ],
   "source": [
    "# Exercise 2: backprop through cross_entropy but all in one go\n",
    "# to complete this challenge look at the mathematical expression of the loss,\n",
    "# take the derivative, simplify the expression, and just write it out\n",
    "\n",
    "# forward pass\n",
    "\n",
    "# before:\n",
    "# logit_maxes = logits.max(1, keepdim=True).values\n",
    "# norm_logits = logits - logit_maxes # subtract max for numerical stability\n",
    "# counts = norm_logits.exp()\n",
    "# counts_sum = counts.sum(1, keepdims=True)\n",
    "# counts_sum_inv = counts_sum**-1 # if I use (1.0 / counts_sum) instead then I can't get backprop to be bit exact...\n",
    "# probs = counts * counts_sum_inv\n",
    "# logprobs = probs.log()\n",
    "# loss = -logprobs[range(n), Yb].mean()\n",
    "\n",
    "# now:\n",
    "loss_fast = F.cross_entropy(logits, Yb)\n",
    "print(loss_fast.item(), 'diff:', (loss_fast - loss).item())"
   ]
  },
  {
   "cell_type": "code",
   "execution_count": 32,
   "metadata": {},
   "outputs": [
    {
     "data": {
      "text/plain": [
       "torch.Size([32, 27])"
      ]
     },
     "execution_count": 32,
     "metadata": {},
     "output_type": "execute_result"
    }
   ],
   "source": [
    "logits.shape"
   ]
  },
  {
   "cell_type": "code",
   "execution_count": 33,
   "metadata": {},
   "outputs": [
    {
     "name": "stdout",
     "output_type": "stream",
     "text": [
      "logits          | exact: False | approximate: True  | maxdiff: 5.3551048040390015e-09\n"
     ]
    }
   ],
   "source": [
    "# backward pass\n",
    "dlogits = F.softmax(logits, 1)\n",
    "dlogits[range(n), Yb] -= 1\n",
    "dlogits /= n\n",
    "\n",
    "cmp('logits', dlogits, logits) # I can only get approximate to be true, my maxdiff is 6e-9"
   ]
  }
 ],
 "metadata": {
  "kernelspec": {
   "display_name": "base",
   "language": "python",
   "name": "python3"
  },
  "language_info": {
   "codemirror_mode": {
    "name": "ipython",
    "version": 3
   },
   "file_extension": ".py",
   "mimetype": "text/x-python",
   "name": "python",
   "nbconvert_exporter": "python",
   "pygments_lexer": "ipython3",
   "version": "3.11.7"
  }
 },
 "nbformat": 4,
 "nbformat_minor": 2
}
