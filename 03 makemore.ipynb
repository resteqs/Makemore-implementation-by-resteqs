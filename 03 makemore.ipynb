{
 "cells": [
  {
   "cell_type": "code",
   "execution_count": 6,
   "metadata": {},
   "outputs": [],
   "source": [
    "import torch\n",
    "import torch.nn.functional as F\n",
    "import matplotlib.pyplot as plt #for making figures\n",
    "%matplotlib inline"
   ]
  },
  {
   "cell_type": "code",
   "execution_count": 7,
   "metadata": {},
   "outputs": [
    {
     "name": "stdout",
     "output_type": "stream",
     "text": [
      "{1: 'a', 2: 'b', 3: 'c', 4: 'd', 5: 'e', 6: 'f', 7: 'g', 8: 'h', 9: 'i', 10: 'j', 11: 'k', 12: 'l', 13: 'm', 14: 'n', 15: 'o', 16: 'p', 17: 'q', 18: 'r', 19: 's', 20: 't', 21: 'u', 22: 'v', 23: 'w', 24: 'x', 25: 'y', 26: 'z', 0: '.'}\n"
     ]
    }
   ],
   "source": [
    "words = open(\"names.txt\", \"r\").read().splitlines()\n",
    "#String to integer and integer to string mappings have been created\n",
    "chars = sorted(list(set( \"\".join(words))))\n",
    "stoi = {s:i+1 for i,s in enumerate(chars)}\n",
    "stoi[\".\"] = 0\n",
    "itos = {i:s for s,i in stoi.items()}\n",
    "vocab_size = len(itos)\n",
    "print(itos)"
   ]
  },
  {
   "cell_type": "code",
   "execution_count": 8,
   "metadata": {},
   "outputs": [
    {
     "name": "stdout",
     "output_type": "stream",
     "text": [
      "torch.Size([182625, 3]) torch.Size([182625])\n"
     ]
    },
    {
     "name": "stdout",
     "output_type": "stream",
     "text": [
      "torch.Size([22655, 3]) torch.Size([22655])\n",
      "torch.Size([22866, 3]) torch.Size([22866])\n"
     ]
    }
   ],
   "source": [
    "# build the dataset\n",
    "block_size = 3 # context length: how many characters do we take to predict the next one?\n",
    "\n",
    "def build_dataset(words):\n",
    "    X, Y = [], []\n",
    "\n",
    "    for w in words:\n",
    "        context = [0] * block_size\n",
    "        for ch in w + '.':\n",
    "            ix = stoi[ch]\n",
    "            X.append(context)\n",
    "            Y.append(ix)\n",
    "            context = context[1:] + [ix] # crop and append\n",
    "\n",
    "    X = torch.tensor(X)\n",
    "    Y = torch.tensor(Y)\n",
    "    print(X.shape, Y.shape)\n",
    "    return X, Y\n",
    "\n",
    "import random\n",
    "random.seed(42)\n",
    "random.shuffle(words)\n",
    "n1 = int(0.8*len(words))\n",
    "n2 = int(0.9*len(words))\n",
    "\n",
    "Xtr, Ytr = build_dataset(words[:n1])     # 80%\n",
    "Xdev, Ydev = build_dataset(words[n1:n2]) # 10%\n",
    "Xte, Yte = build_dataset(words[n2:])     # 10%\n"
   ]
  },
  {
   "attachments": {
    "image.png": {
     "image/png": "[encoded data removed]"
    }
   },
   "cell_type": "markdown",
   "metadata": {},
   "source": [
    "# How to optimally initialize the Model\n",
    "\n",
    "### Expected loss\n",
    "The initial loss of the function is over 27,8 which is all fucked up... Why? Let's assume a uniform distribution of 27 characters and calculate the loss: log(1/27) = 3,29\n",
    "The problem is we initialize our values randomly from a normal distribution\n",
    "\n",
    "Solution: Set bias to 0 and scale the Weights by a small number (0.01) to have values close to zero but not 0 to avoid \n",
    "\n",
    "### tanh\n",
    "<img src =\"tanh1.png\" width = \"300\"> </br>\n",
    "Our tanh puts most values to 1 or -1 and this reduces our learning rate. \n",
    "Backward pass of tanh look like (1-t^2) * out.grad -> If t is close to one our gradient is getting washed away, which makes our training very ineffective and it might even cause **braindamage** where a neuron is never activated for any example and it never learns\n",
    "\n",
    "Solution: Scale down the Weights of the activation layer so that smaller numbers get passed to tanh, but with what?\n",
    "\n",
    "### Kaiming initalisation\n",
    "There is the so called Kaiming init, which states that we need to set our std deviation (i.e. multiply a gaussian with std = 1 by x) to </br></br> \n",
    " <img src = \"Gain.png\" width= \"300\"/> ![image.png](attachment:image.png) </br>\n",
    "Where gain is a constant for every non linearity and fan_mode can be either fan_in(number of inputs to a layer) or fan_out(number of outputs of a layer) </br></br>\n",
    "\n",
    "### Batch normalization\n",
    "\n",
    "hpreact are the preactivations to our hidden layer which then are tanh'ed. We have seen that the input values that are around the gaussian distribution with std = 1 work best as we don't loose to much information, so then our idea is to **normalize** our batch. As you know from data science we can do this by calculating (x-mean)/std for every x. We also add 2 vectors bngain and bnbias to not enforce gaussian distribution outside of the initialisation. During training we also backpropagate through the bngain and bnbias to be able to distort the distribution.\n",
    "\n",
    "Intrestingly it is common to add multiple bacth normalisation layers especially after linear layers like hpreact inside our Deep Neural network\n",
    "\n",
    "\n",
    "BUT THERE IS A BAD THING, previusoly i didnt matter what examples were trained together in a batch, now they are mathematically connected, because we calculate their mean and std deviation, so we are like ooohh shiiiiiit! BUT, this actually creates a slight noise in our logits, which makes it harder for the network to overfit our examples. Therefore Batch Noramlisation has this additional regulatory property. \n",
    "\n",
    "Additional problem is that now when we want to sample from our model, then it expects a batch it can calculate a mean and std deviation on. Our solution is to calculate this 2 values during training and then use them as constants when sampling"
   ]
  },
  {
   "cell_type": "code",
   "execution_count": 9,
   "metadata": {},
   "outputs": [
    {
     "name": "stdout",
     "output_type": "stream",
     "text": [
      "11897\n"
     ]
    }
   ],
   "source": [
    "# MLP revisited\n",
    "n_embd = 10  # the dimensionality of the character embedding vectors\n",
    "n_hidden = 200  # the number of neurons in the hidden layer of the MLP\n",
    "\n",
    "g = torch.Generator().manual_seed(2147483647)  # for reproducibility\n",
    "C = torch.randn((vocab_size, n_embd), generator=g)\n",
    "W1 = torch.randn((n_embd * block_size, n_hidden), generator=g) *(5/3) / (n_embd * block_size)**0.5 #Kaiming initialisation\n",
    "#b1 = torch.randn(n_hidden, generator=g) * 0.01 #Not needed anymore, look in the training code\n",
    "W2 = torch.randn((n_hidden, vocab_size), generator=g) * 0.01\n",
    "b2 = torch.randn(vocab_size, generator=g) * 0\n",
    "\n",
    "bngain = torch.ones((1, n_hidden)) #On intialisation these parameters will be 1 so that we keep hpreact with the standard distribution, but then during backprob, we will be able to adjust these vectors, so that we can make some inputs more or less trigger happy etc\n",
    "bnbias = torch.zeros((1, n_hidden)) # This is the same as above but here are zeros, remember Wx + b\n",
    "\n",
    "#Calcuklating the mean and std dev of the entire training set during training\n",
    "bnmean_running = torch.zeros((1, n_hidden)) # Mean of normal distribution will be intially around 1\n",
    "bnstd_running = torch.ones((1, n_hidden))# std dev of normal distribution will be intially arounf 0 \n",
    "\n",
    "\n",
    "parameters = [C, W1, W2, b2, bngain, bnbias]\n",
    "print(sum(p.nelement() for p in parameters))  # number of parameters in total\n",
    "for p in parameters:\n",
    "    p.requires_grad = True\n"
   ]
  },
  {
   "cell_type": "code",
   "execution_count": 10,
   "metadata": {},
   "outputs": [
    {
     "name": "stdout",
     "output_type": "stream",
     "text": [
      "      0/ 200001: 3.3147\n",
      "  10000/ 200001: 2.1942\n",
      "  20000/ 200001: 2.3443\n",
      "  30000/ 200001: 2.4160\n",
      "  40000/ 200001: 1.9913\n",
      "  50000/ 200001: 2.2978\n",
      "  60000/ 200001: 2.5254\n",
      "  70000/ 200001: 2.0707\n",
      "  80000/ 200001: 2.3107\n",
      "  90000/ 200001: 2.0663\n",
      " 100000/ 200001: 1.9933\n",
      " 110000/ 200001: 2.3179\n",
      " 120000/ 200001: 1.9123\n",
      " 130000/ 200001: 2.4505\n",
      " 140000/ 200001: 2.4321\n",
      " 150000/ 200001: 2.2003\n",
      " 160000/ 200001: 2.0463\n",
      " 170000/ 200001: 1.8839\n",
      " 180000/ 200001: 1.9983\n",
      " 190000/ 200001: 1.8873\n",
      " 200000/ 200001: 2.2286\n"
     ]
    }
   ],
   "source": [
    "# same optimization as last time\n",
    "max_steps = 200001\n",
    "batch_size = 32\n",
    "lossi = []\n",
    "stepi = []\n",
    "\n",
    "\n",
    "for i in range(max_steps):\n",
    "\n",
    "    # minibatch construct\n",
    "    ix = torch.randint(0, Xtr.shape[0], (batch_size,), generator=g)\n",
    "    Xb, Yb = Xtr[ix], Ytr[ix] # batch X,Y\n",
    "\n",
    "    # forward pass\n",
    "    emb = C[Xb] # embed the characters into vectors\n",
    "    embcat = emb.view(emb.shape[0], -1) # concatenate the vectors\n",
    "    hpreact = embcat @ W1 # + b1 we dont need b1 because with the batch normalisation its gradient is 0 so it has no inpact, in fact our bnbias takes over the role of b1 # hidden layer pre-activation\n",
    "    bnmeani = hpreact.mean(0, keepdim=True) # batch normalisation mean of the ith iteration \n",
    "    bnstdi =  hpreact.std(0, keepdim=True) #batch normalisation std dev of the ith iteration\n",
    "    hpreact = bngain * (hpreact - bnmeani) / bnstdi + bnbias # Batch normalisation layer\n",
    "\n",
    "    with torch.no_grad: #We will not backpropagate through this, we just make some computations in parallel to training\n",
    "        bnmean_running = bnmean_running * 0.999 + 0.001 * bnmeani\n",
    "        bnstd_running = 0.999 * bnstd_running + 0.001 * bnstdi\n",
    "\n",
    "    h = torch.tanh(hpreact) # hidden layer\n",
    "    logits = h @ W2 + b2 # output layer\n",
    "    loss = F.cross_entropy(logits, Yb) # loss function\n",
    "\n",
    "    # backward pass\n",
    "    for p in parameters:\n",
    "        p.grad = None\n",
    "    loss.backward()\n",
    "\n",
    "    # update\n",
    "    lr = 0.1 if i < 100000 else 0.01 # step learning rate decay\n",
    "    for p in parameters:\n",
    "        p.data += -lr * p.grad\n",
    "\n",
    "    # track stats\n",
    "    if i % 10000 == 0: # print every once in a while\n",
    "        print(f'{i:7d}/{max_steps:7d}: {loss.item():.4f}')\n",
    "    lossi.append(loss.log10().item())\n",
    "    stepi.append(i)"
   ]
  },
  {
   "cell_type": "code",
   "execution_count": 11,
   "metadata": {},
   "outputs": [
    {
     "data": {
      "text/plain": [
       "[<matplotlib.lines.Line2D at 0x2203b537610>]"
      ]
     },
     "execution_count": 11,
     "metadata": {},
     "output_type": "execute_result"
    },
    {
     "data": {
      "image/png": "[encoded data removed]",
      "text/plain": [
       "<Figure size 640x480 with 1 Axes>"
      ]
     },
     "metadata": {},
     "output_type": "display_data"
    }
   ],
   "source": [
    "plt.plot(stepi, lossi)"
   ]
  },
  {
   "cell_type": "markdown",
   "metadata": {},
   "source": [
    "# Evaluating the model\n"
   ]
  },
  {
   "cell_type": "code",
   "execution_count": 12,
   "metadata": {},
   "outputs": [
    {
     "name": "stdout",
     "output_type": "stream",
     "text": [
      "train 2.771937131881714\n",
      "val 2.799564838409424\n"
     ]
    }
   ],
   "source": [
    "@torch.no_grad() # this decorator disables gradient tracking for efficiency, as we will not run any gradient optimzation on our evaluation\n",
    "def split_loss(split):\n",
    "    x, y = {\n",
    "        'train': (Xtr, Ytr),\n",
    "        'val': (Xdev, Ydev),\n",
    "        'test': (Xte, Yte),\n",
    "    }[split]\n",
    "    \n",
    "    emb = C[x] # (N, block_size, n_embd)\n",
    "    embcat = emb.view(emb.shape[0], -1) # concat into (N, block_size * n_embd)\n",
    "    hpreact = embcat @ W1 # +b1 not needed\n",
    "    hpreact = bngain * (hpreact - bnmean_running) / bnstd_running + bnbias # Batch normalisation layer\n",
    "    h = torch.tanh(hpreact) # (N, n_hidden)\n",
    "    logits = h @ W2 + b2 # (N, vocab_size)\n",
    "    loss = F.cross_entropy(logits, y)\n",
    "    print(split, loss.item())\n",
    "\n",
    "split_loss('train')\n",
    "split_loss('val')\n"
   ]
  },
  {
   "cell_type": "markdown",
   "metadata": {},
   "source": [
    "# Sampling the Model\n"
   ]
  },
  {
   "cell_type": "code",
   "execution_count": 13,
   "metadata": {},
   "outputs": [
    {
     "name": "stdout",
     "output_type": "stream",
     "text": [
      "marvik.\n",
      "sammi.\n",
      "brand.\n",
      "fran.\n",
      "bravrngeld.\n",
      "leg.\n",
      "vished.\n",
      "dlin.\n",
      "shi.\n",
      "jenu.\n",
      "kenson.\n",
      "passtelyz.\n",
      "vivari.\n",
      "nyshdbrrgianan.\n",
      "styn.\n",
      "josellenngtoriffuylka.\n",
      "darujuclenekshlvy.\n",
      "masklynn.\n",
      "hal.\n",
      "sakyansh.\n"
     ]
    }
   ],
   "source": [
    "# sample from the model\n",
    "g = torch.Generator().manual_seed(2147483647 + 10)\n",
    "\n",
    "for _ in range(20):\n",
    "\n",
    "    out = []\n",
    "    context = [0] * block_size # initialize with all ...\n",
    "    while True:\n",
    "        # forward pass the neural net\n",
    "        emb = C[torch.tensor([context])] # (1, block_size, n_embd)\n",
    "        h = torch.tanh(emb.view(1, -1) @ W1) #b1 not needed anymore \n",
    "        logits = h @ W2 + b2\n",
    "        probs = F.softmax(logits, dim=1)\n",
    "        # sample from the distribution\n",
    "        ix = torch.multinomial(probs, num_samples=1, generator=g).item()\n",
    "        # shift the context window and track the samples\n",
    "        context = context[1:] + [ix]\n",
    "        out.append(ix)\n",
    "        # if we sample the special '.' token, break\n",
    "        if ix == 0:\n",
    "            break\n",
    "\n",
    "    print(''.join(itos[i] for i in out)) # decode and print the generated word\n"
   ]
  }
 ],
 "metadata": {
  "kernelspec": {
   "display_name": "base",
   "language": "python",
   "name": "python3"
  },
  "language_info": {
   "codemirror_mode": {
    "name": "ipython",
    "version": 3
   },
   "file_extension": ".py",
   "mimetype": "text/x-python",
   "name": "python",
   "nbconvert_exporter": "python",
   "pygments_lexer": "ipython3",
   "version": "3.11.7"
  },
  "orig_nbformat": 4
 },
 "nbformat": 4,
 "nbformat_minor": 2
}
