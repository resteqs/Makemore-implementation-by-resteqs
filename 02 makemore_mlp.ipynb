{
 "cells": [
  {
   "cell_type": "markdown",
   "metadata": {},
   "source": [
    "# Exercises Part2: \n",
    "- E01: Tune the hyperparameters of the training to beat my best validation loss of 2.2\n",
    "- E02: I was not careful with the intialization of the network in this video. (1) What is the loss you'd get if the predicted probabilities at initialization were perfectly uniform? What loss do we achieve? (2) Can you tune the initialization to get a starting loss that is much more similar to (1)?\n",
    "- E03: Read the Bengio et al 2003 paper ([link](https://www.youtube.com/redirect?event=video_description&redir_token=QUFFLUhqbnlHNlB5V2ZGT3lSVVljeXNMMGlUa2ktbmx3d3xBQ3Jtc0tsUGdMSU5OcWVEUHFxd0RzTVJQLVZnMzY3N3UzQXlzRE93ZjEydklDR0YwYWd6OThLNDJvNFNFM3FkajhGWGNtaU9ZVXl2VmkzR0NoYWdNUGpyeTd1RG9LN1dSRklQUHdkaEs5RWlPQWZxeW1rLUM3QQ&q=https%3A%2F%2Fwww.jmlr.org%2Fpapers%2Fvolume3%2Fbengio03a%2Fbengio03a.pdf&v=TCH_1BHY58I)), implement and try any idea from the paper. Did it work?\n"
   ]
  },
  {
   "cell_type": "code",
   "execution_count": 58,
   "metadata": {},
   "outputs": [],
   "source": [
    "import torch\n",
    "import torch.nn.functional as F\n",
    "import matplotlib.pyplot as plt #for making figures\n",
    "%matplotlib inline"
   ]
  },
  {
   "cell_type": "code",
   "execution_count": 59,
   "metadata": {},
   "outputs": [
    {
     "data": {
      "text/plain": [
       "['emma', 'olivia', 'ava', 'isabella', 'sophia', 'charlotte', 'mia', 'amelia']"
      ]
     },
     "execution_count": 59,
     "metadata": {},
     "output_type": "execute_result"
    }
   ],
   "source": [
    "words = open(\"names.txt\", \"r\").read().splitlines()\n",
    "words[:8]"
   ]
  },
  {
   "cell_type": "code",
   "execution_count": 60,
   "metadata": {},
   "outputs": [
    {
     "data": {
      "text/plain": [
       "32033"
      ]
     },
     "execution_count": 60,
     "metadata": {},
     "output_type": "execute_result"
    }
   ],
   "source": [
    "len(words)\n"
   ]
  },
  {
   "cell_type": "code",
   "execution_count": 61,
   "metadata": {},
   "outputs": [
    {
     "name": "stdout",
     "output_type": "stream",
     "text": [
      "{1: 'a', 2: 'b', 3: 'c', 4: 'd', 5: 'e', 6: 'f', 7: 'g', 8: 'h', 9: 'i', 10: 'j', 11: 'k', 12: 'l', 13: 'm', 14: 'n', 15: 'o', 16: 'p', 17: 'q', 18: 'r', 19: 's', 20: 't', 21: 'u', 22: 'v', 23: 'w', 24: 'x', 25: 'y', 26: 'z', 0: '.'}\n"
     ]
    }
   ],
   "source": [
    "#String to integer and integer to string mappings have been created\n",
    "chars = sorted(list(set( \"\".join(words))))\n",
    "stoi = {s:i+1 for i,s in enumerate(chars)}\n",
    "stoi[\".\"] = 0\n",
    "itos = {i:s for s,i in stoi.items()}\n",
    "print(itos)\n"
   ]
  },
  {
   "cell_type": "code",
   "execution_count": 62,
   "metadata": {},
   "outputs": [
    {
     "name": "stdout",
     "output_type": "stream",
     "text": [
      "emma\n",
      "... ---> e\n",
      "..e ---> m\n",
      ".em ---> m\n",
      "emm ---> a\n",
      "mma ---> .\n",
      "olivia\n",
      "... ---> o\n",
      "..o ---> l\n",
      ".ol ---> i\n",
      "oli ---> v\n",
      "liv ---> i\n",
      "ivi ---> a\n",
      "via ---> .\n",
      "ava\n",
      "... ---> a\n",
      "..a ---> v\n",
      ".av ---> a\n",
      "ava ---> .\n",
      "isabella\n",
      "... ---> i\n",
      "..i ---> s\n",
      ".is ---> a\n",
      "isa ---> b\n",
      "sab ---> e\n",
      "abe ---> l\n",
      "bel ---> l\n",
      "ell ---> a\n",
      "lla ---> .\n",
      "sophia\n",
      "... ---> s\n",
      "..s ---> o\n",
      ".so ---> p\n",
      "sop ---> h\n",
      "oph ---> i\n",
      "phi ---> a\n",
      "hia ---> .\n"
     ]
    }
   ],
   "source": [
    "# build the dataset\n",
    "\n",
    "block_size = 3 #Number of characters used to predict the next one \n",
    "X, Y = [], [] #X are the inputs, Y are the labels\n",
    "for w in words[:5]:\n",
    "    print(w)\n",
    "    context = [0] * block_size\n",
    "    for ch in w + \".\":\n",
    "        ix = stoi[ch]\n",
    "        X.append(context)\n",
    "        Y.append(ix)\n",
    "        print(\"\".join(itos[i] for i in context), \"--->\", itos[ix])\n",
    "        context = context[1:] + [ix]\n",
    "\n",
    "X = torch.tensor(X)\n",
    "Y = torch.tensor(Y)"
   ]
  },
  {
   "cell_type": "markdown",
   "metadata": {},
   "source": [
    "<img src= \"Screenshot 2024-05-14 150859.png\" width= \"600\n",
    "\">\n"
   ]
  },
  {
   "cell_type": "code",
   "execution_count": 63,
   "metadata": {},
   "outputs": [
    {
     "data": {
      "text/plain": [
       "(torch.Size([32, 3]), torch.int64, torch.Size([32]), torch.int64)"
      ]
     },
     "execution_count": 63,
     "metadata": {},
     "output_type": "execute_result"
    }
   ],
   "source": [
    "X.shape, X.dtype, Y.shape, Y.dtype"
   ]
  },
  {
   "cell_type": "code",
   "execution_count": 64,
   "metadata": {},
   "outputs": [
    {
     "data": {
      "text/plain": [
       "tensor([[-1.2660,  1.0305],\n",
       "        [-0.2507,  0.9214],\n",
       "        [ 0.5152,  0.0751],\n",
       "        [ 0.5152,  0.0751],\n",
       "        [ 0.5152,  0.0751],\n",
       "        [ 0.5152,  0.0751]])"
      ]
     },
     "execution_count": 64,
     "metadata": {},
     "output_type": "execute_result"
    }
   ],
   "source": [
    "C = torch.randn((27, 2)) #We want to embed each of our 27 characters into a 2 dimensionial space\n",
    "C\n",
    "C[5]\n",
    "C[[5,6,7]]\n",
    "C[torch.tensor([5,6,7,7,7,7])] #Some random ways to access only some specific rows\n",
    "\n"
   ]
  },
  {
   "cell_type": "code",
   "execution_count": 65,
   "metadata": {},
   "outputs": [
    {
     "data": {
      "text/plain": [
       "tensor([[[-1.2867,  0.8266],\n",
       "         [-1.2867,  0.8266],\n",
       "         [-1.2867,  0.8266]],\n",
       "\n",
       "        [[-1.2867,  0.8266],\n",
       "         [-1.2867,  0.8266],\n",
       "         [-1.2660,  1.0305]],\n",
       "\n",
       "        [[-1.2867,  0.8266],\n",
       "         [-1.2660,  1.0305],\n",
       "         [-0.2502, -1.0028]],\n",
       "\n",
       "        [[-1.2660,  1.0305],\n",
       "         [-0.2502, -1.0028],\n",
       "         [-0.2502, -1.0028]],\n",
       "\n",
       "        [[-0.2502, -1.0028],\n",
       "         [-0.2502, -1.0028],\n",
       "         [-0.3982, -0.5296]],\n",
       "\n",
       "        [[-1.2867,  0.8266],\n",
       "         [-1.2867,  0.8266],\n",
       "         [-1.2867,  0.8266]],\n",
       "\n",
       "        [[-1.2867,  0.8266],\n",
       "         [-1.2867,  0.8266],\n",
       "         [ 0.8780,  0.3480]],\n",
       "\n",
       "        [[-1.2867,  0.8266],\n",
       "         [ 0.8780,  0.3480],\n",
       "         [-0.2977,  1.0787]],\n",
       "\n",
       "        [[ 0.8780,  0.3480],\n",
       "         [-0.2977,  1.0787],\n",
       "         [-0.4937, -0.7851]],\n",
       "\n",
       "        [[-0.2977,  1.0787],\n",
       "         [-0.4937, -0.7851],\n",
       "         [-0.3984, -1.5610]],\n",
       "\n",
       "        [[-0.4937, -0.7851],\n",
       "         [-0.3984, -1.5610],\n",
       "         [-0.4937, -0.7851]],\n",
       "\n",
       "        [[-0.3984, -1.5610],\n",
       "         [-0.4937, -0.7851],\n",
       "         [-0.3982, -0.5296]],\n",
       "\n",
       "        [[-1.2867,  0.8266],\n",
       "         [-1.2867,  0.8266],\n",
       "         [-1.2867,  0.8266]],\n",
       "\n",
       "        [[-1.2867,  0.8266],\n",
       "         [-1.2867,  0.8266],\n",
       "         [-0.3982, -0.5296]],\n",
       "\n",
       "        [[-1.2867,  0.8266],\n",
       "         [-0.3982, -0.5296],\n",
       "         [-0.3984, -1.5610]],\n",
       "\n",
       "        [[-0.3982, -0.5296],\n",
       "         [-0.3984, -1.5610],\n",
       "         [-0.3982, -0.5296]],\n",
       "\n",
       "        [[-1.2867,  0.8266],\n",
       "         [-1.2867,  0.8266],\n",
       "         [-1.2867,  0.8266]],\n",
       "\n",
       "        [[-1.2867,  0.8266],\n",
       "         [-1.2867,  0.8266],\n",
       "         [-0.4937, -0.7851]],\n",
       "\n",
       "        [[-1.2867,  0.8266],\n",
       "         [-0.4937, -0.7851],\n",
       "         [ 0.0045,  0.6686]],\n",
       "\n",
       "        [[-0.4937, -0.7851],\n",
       "         [ 0.0045,  0.6686],\n",
       "         [-0.3982, -0.5296]],\n",
       "\n",
       "        [[ 0.0045,  0.6686],\n",
       "         [-0.3982, -0.5296],\n",
       "         [ 1.9851,  0.5324]],\n",
       "\n",
       "        [[-0.3982, -0.5296],\n",
       "         [ 1.9851,  0.5324],\n",
       "         [-1.2660,  1.0305]],\n",
       "\n",
       "        [[ 1.9851,  0.5324],\n",
       "         [-1.2660,  1.0305],\n",
       "         [-0.2977,  1.0787]],\n",
       "\n",
       "        [[-1.2660,  1.0305],\n",
       "         [-0.2977,  1.0787],\n",
       "         [-0.2977,  1.0787]],\n",
       "\n",
       "        [[-0.2977,  1.0787],\n",
       "         [-0.2977,  1.0787],\n",
       "         [-0.3982, -0.5296]],\n",
       "\n",
       "        [[-1.2867,  0.8266],\n",
       "         [-1.2867,  0.8266],\n",
       "         [-1.2867,  0.8266]],\n",
       "\n",
       "        [[-1.2867,  0.8266],\n",
       "         [-1.2867,  0.8266],\n",
       "         [ 0.0045,  0.6686]],\n",
       "\n",
       "        [[-1.2867,  0.8266],\n",
       "         [ 0.0045,  0.6686],\n",
       "         [ 0.8780,  0.3480]],\n",
       "\n",
       "        [[ 0.0045,  0.6686],\n",
       "         [ 0.8780,  0.3480],\n",
       "         [ 0.5193, -1.2982]],\n",
       "\n",
       "        [[ 0.8780,  0.3480],\n",
       "         [ 0.5193, -1.2982],\n",
       "         [ 0.7741, -1.1623]],\n",
       "\n",
       "        [[ 0.5193, -1.2982],\n",
       "         [ 0.7741, -1.1623],\n",
       "         [-0.4937, -0.7851]],\n",
       "\n",
       "        [[ 0.7741, -1.1623],\n",
       "         [-0.4937, -0.7851],\n",
       "         [-0.3982, -0.5296]]])"
      ]
     },
     "execution_count": 65,
     "metadata": {},
     "output_type": "execute_result"
    }
   ],
   "source": [
    "emb = C[X]\n",
    "emb.shape\n",
    "emb\n"
   ]
  },
  {
   "cell_type": "markdown",
   "metadata": {},
   "source": [
    "<img src= \"Unbenannt.png\" width= \"600\n",
    "\"> </br>\n",
    "The indexes of letters from 0-26 get replaced by their embeding into a 2 Dimensional Space, with initial values generated at random from a normal distribution "
   ]
  },
  {
   "cell_type": "code",
   "execution_count": 66,
   "metadata": {},
   "outputs": [
    {
     "data": {
      "text/plain": [
       "tensor([[-0.2126, -0.9898, -0.6645,  ..., -0.9998,  0.9987, -0.9992],\n",
       "        [-0.3862, -0.9952, -0.6824,  ..., -0.9998,  0.9986, -0.9996],\n",
       "        [ 0.8148,  0.1940, -0.5258,  ..., -0.9996,  0.8957, -0.9083],\n",
       "        ...,\n",
       "        [-0.5420,  0.5430,  0.0715,  ...,  0.9999, -0.9745, -0.3825],\n",
       "        [ 0.9591,  0.8309, -0.0360,  ...,  0.9995,  0.1135,  0.9996],\n",
       "        [ 0.7809,  0.8945, -0.9264,  ...,  0.9999,  0.9063,  0.9986]])"
      ]
     },
     "execution_count": 66,
     "metadata": {},
     "output_type": "execute_result"
    }
   ],
   "source": [
    "W1 = torch.randn((6,100)) #What does 6,100 mean? The Hidden layer in the middle has 3 inputs, which actually are our 3 characters as input\n",
    "# Each of them is embedded to 2D space 2x3 = 6. So each of the 100 Neurons we created is feeded with 6 values which all get a weight we first init randomly\n",
    "b1 = torch.randn(100) #Every neuron also gets a random bias \n",
    "\n",
    "#Neuron = (input1 * weight1 + ... + input6 * weight 6) + bias\n",
    "#So we want emb @ W1 + b1 which multiplies all our examples with weights and adds a bias BUT:\n",
    "#We can not multiply a shape [32,3,2] @ [100,6] we need to squash it to [32,6] @ [6,100]\n",
    "\n",
    "torch.cat(torch.unbind(emb, 1), 1)# <=> torch.cat ([emb[:,0 , :], emb[:,1 , :], emb[:,2 , :]], 1) Which means we take a list of 0th letters, 1st letters and 2nd letters and squash them\n",
    "\n",
    "#BUUUUUT! This is not very efficient... There is a better way\n",
    "\n",
    "#Each tensor stores something called .storage(), this is a one dimensional representation of the tensor, because thats how it is stored in PC memory\n",
    "#The method .view() manipulates how this originally one-dim tensor (or array in simpler words) is interpreted by PyTorch, so no values are copied, no additional memory is needed etc.\n",
    "\n",
    "h = emb.view(32,6) @ W1 + b1 #Voilaaaaaa!!!\n",
    "\n",
    "#BUUUT: We dont want to hardcode numbers...\n",
    "h = emb.view(emb.shape[0], 6) @ W1 + b1\n",
    "#But why is 6 still here... Shuu Shuu go away... Well we already agreed on 3 input letters and 2 Dimensional embedings so its kinda okay...\n",
    "\n",
    "h = torch.tanh(h) #Look at the image, the layer is non linear, it is a tanh \n",
    "h"
   ]
  },
  {
   "cell_type": "markdown",
   "metadata": {},
   "source": [
    "<img src= \"Screenshot 2024-05-14 150859.png\" width= \"300\n",
    "\"><img src= \"tanh.jpg\" width= \"300\n",
    "\">\n",
    "<img src= \"hyperbolic functions.png\" width= \"300\n",
    "\">\n",
    "https://www.youtube.com/watch?v=HnHnEnkZpJA Video zum Thema hyperbolic trigonmometric functions"
   ]
  },
  {
   "cell_type": "code",
   "execution_count": 67,
   "metadata": {},
   "outputs": [],
   "source": [
    "#Now we create our Output layer:\n",
    "W2 = torch.randn((100, 27))\n",
    "b2 = torch.randn(27)\n",
    "#Again lets take a moment here. We create a layer with 27 Neurons where each neuron gets 100 inputs from the 100 neurons of the previous layer\n",
    "logits = h @ W2 + b2 #What are logits? Logits are the outputs of a neural network. Usually, we plug the outputs to a softmax in order to receive a probability distribution \n",
    "counts = logits.exp()\n",
    "prob =  counts / counts.sum(1, keepdim= True) #Look at the image below. This is softmax"
   ]
  },
  {
   "cell_type": "markdown",
   "metadata": {},
   "source": [
    "<img src=\"th-1496899846.png\" alt=\"Example Image\" width=\"300\" >\n",
    "</br>\n",
    "We take our \"counts\" and transform them into probs below </br></br>\n",
    "<img src=\"probrow.png\" alt=\"Example Image\" width=\"300\" >\n",
    "</br> \n",
    "As you can see the probability distribution for each of the X Inputs is one\n",
    "\n",
    "Logits have the shape [x, 100] @ [100, 27] -> [x, 27], where x is every encoded example as a row and 27 is the prob distribution for each character which sums up to one in every row"
   ]
  },
  {
   "cell_type": "markdown",
   "metadata": {},
   "source": [
    "</br></br>\n",
    "Now lets us look at the following:"
   ]
  },
  {
   "cell_type": "code",
   "execution_count": 68,
   "metadata": {},
   "outputs": [
    {
     "name": "stdout",
     "output_type": "stream",
     "text": [
      "tensor([5.5013e-05, 1.0560e-03, 1.7339e-06, 1.5768e-10, 1.0153e-08, 1.0248e-08,\n",
      "        9.5688e-01, 1.6616e-11, 4.6921e-10, 1.2597e-07, 5.0286e-11, 1.9705e-08,\n",
      "        1.1456e-10, 1.0334e-07, 1.4715e-12, 4.5840e-10, 6.0484e-07, 2.2798e-01,\n",
      "        1.5841e-08, 1.1393e-07, 2.7705e-12, 1.1936e-16, 5.3625e-02, 1.1579e-09,\n",
      "        4.6747e-08, 5.7216e-03, 8.3318e-10, 3.7254e-12, 2.5205e-07, 3.7234e-09,\n",
      "        2.9696e-09, 2.6190e-05])\n"
     ]
    },
    {
     "data": {
      "text/plain": [
       "tensor(17.2276)"
      ]
     },
     "execution_count": 68,
     "metadata": {},
     "output_type": "execute_result"
    }
   ],
   "source": [
    "enumerator = torch.arange(prob.size(dim = 0))\n",
    "print(prob[enumerator, Y])\n",
    "nll = -prob[enumerator, Y].log().mean() #We put all values from the table below and log them, then we take an average and then we take it by -1 to get a positive number\n",
    "nll # <- Negative Log likelihood"
   ]
  },
  {
   "cell_type": "markdown",
   "metadata": {},
   "source": [
    "We can calculate the loss in a much easier way with a built in PyTorch function. Use in practice the expression below for better efficiency. Also backwardpass is much easier\n",
    "Additionally there is one more problem. Look at the image:</br>\n",
    "<img src=\"exp problem.png\" alt=\"Example Image\" width=\"300\" > </br>\n",
    "when some logits get extreme positve values we run out of range (inf) and get a prob nan(Not a number), we can avoid it with the built in function.\n",
    "BUT how does PyTorch make it work? It turns out if you subtract a constant from all logits then we dont affect the prob distribution, so PyTorch looks for the biggest logit and substracts its value from all the logits so when end up with negative logits and 0. Now we can calculate the probs without the (inf) problem and still get the correct result"
   ]
  },
  {
   "cell_type": "code",
   "execution_count": 69,
   "metadata": {},
   "outputs": [
    {
     "data": {
      "text/plain": [
       "tensor(17.2276)"
      ]
     },
     "execution_count": 69,
     "metadata": {},
     "output_type": "execute_result"
    }
   ],
   "source": [
    "F.cross_entropy(logits, Y)"
   ]
  },
  {
   "cell_type": "markdown",
   "metadata": {},
   "source": [
    "What does it mean? We print for every row of prob the current probability we give to the actual correct next character (Y if you remember are our labels)\n",
    "Then as you might recall we calculate the negative log likelihood, which we will try to minimize, for our network.\n"
   ]
  },
  {
   "cell_type": "code",
   "execution_count": 70,
   "metadata": {},
   "outputs": [
    {
     "data": {
      "text/plain": [
       "3481"
      ]
     },
     "execution_count": 70,
     "metadata": {},
     "output_type": "execute_result"
    }
   ],
   "source": [
    "parameters = [C, W1, b1, W2, b2]\n",
    "sum(p.nelement() for p in parameters)"
   ]
  },
  {
   "cell_type": "markdown",
   "metadata": {},
   "source": [
    "## Summary \n",
    "we now rewrite some bits to bring it all together and create the training loop"
   ]
  },
  {
   "cell_type": "code",
   "execution_count": 71,
   "metadata": {},
   "outputs": [],
   "source": [
    "for p in parameters:\n",
    "    p.requires_grad = True"
   ]
  },
  {
   "cell_type": "code",
   "execution_count": 72,
   "metadata": {},
   "outputs": [
    {
     "name": "stdout",
     "output_type": "stream",
     "text": [
      "17.227624893188477\n",
      "14.045804023742676\n",
      "11.812531471252441\n",
      "9.7538423538208\n",
      "7.972923278808594\n",
      "6.546151638031006\n",
      "5.383960247039795\n",
      "4.424586296081543\n",
      "3.775606393814087\n",
      "3.386474132537842\n",
      "3.0825109481811523\n",
      "2.8253376483917236\n",
      "2.598240852355957\n",
      "2.3939528465270996\n",
      "2.210319995880127\n",
      "2.0472917556762695\n",
      "1.9045127630233765\n",
      "1.77986478805542\n",
      "1.6698821783065796\n",
      "1.5712823867797852\n",
      "1.481765627861023\n",
      "1.399857997894287\n",
      "1.324498176574707\n",
      "1.2548038959503174\n",
      "1.1900818347930908\n",
      "1.1299058198928833\n",
      "1.0741232633590698\n",
      "1.022742509841919\n",
      "0.9757505655288696\n",
      "0.9329627752304077\n",
      "0.8939839005470276\n",
      "0.8582892417907715\n",
      "0.8253384232521057\n",
      "0.794649064540863\n",
      "0.7658235430717468\n",
      "0.7385520935058594\n",
      "0.7125958800315857\n",
      "0.6877757906913757\n",
      "0.663962185382843\n"
     ]
    },
    {
     "name": "stdout",
     "output_type": "stream",
     "text": [
      "0.6410655379295349\n",
      "0.6190357208251953\n",
      "0.5978596210479736\n",
      "0.5775672793388367\n",
      "0.5582299828529358\n",
      "0.5399600863456726\n",
      "0.5228988528251648\n",
      "0.5071864128112793\n",
      "0.49292391538619995\n",
      "0.4801371097564697\n",
      "0.4687640368938446\n",
      "0.45867210626602173\n",
      "0.4496934115886688\n",
      "0.44165751338005066\n",
      "0.43441060185432434\n",
      "0.4278249442577362\n",
      "0.42179614305496216\n",
      "0.41624248027801514\n",
      "0.41109776496887207\n",
      "0.4063092768192291\n",
      "0.40183383226394653\n",
      "0.397637277841568\n",
      "0.39368996024131775\n",
      "0.38996705412864685\n",
      "0.3864477574825287\n",
      "0.383113831281662\n",
      "0.37995001673698425\n",
      "0.37694209814071655\n",
      "0.3740779757499695\n",
      "0.3713468015193939\n",
      "0.36873897910118103\n",
      "0.36624571681022644\n",
      "0.3638594150543213\n",
      "0.3615723252296448\n",
      "0.3593788146972656\n",
      "0.3572722375392914\n",
      "0.35524776577949524\n",
      "0.35330015420913696\n",
      "0.3514248728752136\n",
      "0.34961798787117004\n",
      "0.3478752374649048\n",
      "0.34619343280792236\n",
      "0.3445691168308258\n",
      "0.34299930930137634\n",
      "0.3414810597896576\n",
      "0.34001168608665466\n",
      "0.3385888338088989\n",
      "0.33721038699150085\n",
      "0.33587390184402466\n",
      "0.33457762002944946\n",
      "0.3333193063735962\n",
      "0.3320976793766022\n",
      "0.3309107720851898\n",
      "0.32975706458091736\n",
      "0.32863545417785645\n",
      "0.32754412293434143\n",
      "0.32648199796676636\n",
      "0.3254477083683014\n",
      "0.3244403004646301\n",
      "0.323458731174469\n",
      "0.32250189781188965\n"
     ]
    }
   ],
   "source": [
    "for _ in range (100):\n",
    "    #forward pass\n",
    "    emb = C[X]\n",
    "    h = torch.tanh(emb.view(-1,6) @ W1 + b1) \n",
    "    logits = h @ W2 + b2 \n",
    "    loss = F.cross_entropy(logits, Y)\n",
    "    print(loss.item())\n",
    "    #backward pass\n",
    "    for p in parameters:\n",
    "        p.grad = None\n",
    "    loss.backward()\n",
    "    #update\n",
    "    for p in parameters:\n",
    "        p.data += -0.1 * p.grad"
   ]
  },
  {
   "cell_type": "markdown",
   "metadata": {},
   "source": [
    "### Overfitting:\n",
    "At first we only worked with the first 5 words, so our Model with over 3000 Params overfitted the data extremly, but nevertheless we didnt get loss = 0. Why? It's because already in the data set with have ambiguities like ... -> e and ... -> o </br>\n",
    "This means we can not possibly fit our current model perfectly to the data already. \n",
    "### Now lets look at training the entire data set: \n",
    "Yet again we copy the code for better visibility:"
   ]
  },
  {
   "cell_type": "code",
   "execution_count": 246,
   "metadata": {},
   "outputs": [],
   "source": [
    "# build the dataset but this time with all words\n",
    "\n",
    "block_size = 3 #Number of characters used to predict the next one \n",
    "X, Y = [], [] #X are the inputs, Y are the labels\n",
    "for w in words:\n",
    "    context = [0] * block_size\n",
    "    for ch in w + \".\":\n",
    "        ix = stoi[ch]\n",
    "        X.append(context)\n",
    "        Y.append(ix)\n",
    "        context = context[1:] + [ix]\n",
    "\n",
    "X = torch.tensor(X)\n",
    "Y = torch.tensor(Y)\n",
    "\n",
    "#Init the embedings C, the params W1, b1, W2, p2\n",
    "C = torch.randn((27, 2)) \n",
    "W1 = torch.randn((6,100))\n",
    "b1 = torch.randn(100) #Every neuron also gets a random bias \n",
    "W2 = torch.randn((100, 27))\n",
    "b2 = torch.randn(27)\n",
    "parameters = [C, W1, b1, W2, b2]\n",
    "for p in parameters: \n",
    "    p.requires_grad = True"
   ]
  },
  {
   "cell_type": "markdown",
   "metadata": {},
   "source": [
    "Now we encounter a performance issue, as the training takes really long... The solutions are Minibatches! We calculate the gradient based on some randomly choosen samples (batches). This leads to 2 things:\n",
    "    - Our gradient is of lower quality\n",
    "    - Our trainigssteps are much faster\n",
    "In reality it is better to have a good estimate of the gradient (\"direction we move towards to\") and make more steps then have a precise value and do fewer steps\n",
    "\n",
    "ix = torch.randint(0, X.shape[0], (32,)):\n",
    "- Generates random 32 integers in a tuple from 0 to the length of X (number of examples)\n",
    "\n",
    "emb = C[X[ix]]:\n",
    "- We create a tuple of our embeded Vectors into the 2D space, but only of those 32 from the minibatch"
   ]
  },
  {
   "cell_type": "code",
   "execution_count": 245,
   "metadata": {},
   "outputs": [
    {
     "name": "stdout",
     "output_type": "stream",
     "text": [
      "2.5522005558013916\n"
     ]
    }
   ],
   "source": [
    "for _ in range (10000):\n",
    "    ix = torch.randint(0, X.shape[0], (32,)) #Generates random 32 integers in a tuple from 0 to the length of X (number of examples)\n",
    "\n",
    "    #forward pass\n",
    "    emb = C[X[ix]]\n",
    "    h = torch.tanh(emb.view(-1,6) @ W1 + b1) \n",
    "    logits = h @ W2 + b2 \n",
    "    loss = F.cross_entropy(logits, Y[ix])\n",
    "    \n",
    "    #backward pass\n",
    "    for p in parameters:\n",
    "        p.grad = None\n",
    "    loss.backward()\n",
    "    #update\n",
    "    for p in parameters:\n",
    "        p.data += -0.1 * p.grad\n",
    "print(loss.item()) #Warning... This loss is calculated for the last minibatch not the entire set. Look below"
   ]
  },
  {
   "cell_type": "code",
   "execution_count": 234,
   "metadata": {},
   "outputs": [
    {
     "data": {
      "text/plain": [
       "2.478708028793335"
      ]
     },
     "execution_count": 234,
     "metadata": {},
     "output_type": "execute_result"
    }
   ],
   "source": [
    "#We calculate the loss for the entire set\n",
    "emb = C[X]\n",
    "h = torch.tanh(emb.view(-1,6) @ W1 + b1) \n",
    "logits = h @ W2 + b2 \n",
    "loss = F.cross_entropy(logits, Y)\n",
    "loss.item()"
   ]
  },
  {
   "cell_type": "markdown",
   "metadata": {},
   "source": [
    "### Our learning steps are currently 0.1, but it is just random... How to determine a good value?\n",
    "\n",
    "Step 1: \n",
    "- We try a couple of values like 0.0001 0.001 0.1 1 10 etc. and see where our steps are way to big (the loss is just jumping around like a kid with ADHD)\n",
    "Step 2:\n",
    "- We create an exponential distribution of the learning steps where the initial steps are small and later steps are bigger\n",
    "Step 3: \n",
    "- For each iteration apply a new learning rate and track the loss\n",
    "Step 4:\n",
    "- Plot it and choose the minimum value"
   ]
  },
  {
   "cell_type": "code",
   "execution_count": 247,
   "metadata": {},
   "outputs": [],
   "source": [
    "learningRateExponent = torch.linspace(-3, 0 ,1000)\n",
    "learningRateSteps = 10**learningRateExponent\n",
    "learningRateI = []\n",
    "lossI = []\n",
    "for i in range (1000):\n",
    "    ix = torch.randint(0, X.shape[0], (32,)) #Generates random 32 integers in a tuple from 0 to the length of X (number of examples)\n",
    "\n",
    "    #forward pass\n",
    "    emb = C[X[ix]]\n",
    "    h = torch.tanh(emb.view(-1,6) @ W1 + b1) \n",
    "    logits = h @ W2 + b2 \n",
    "    loss = F.cross_entropy(logits, Y[ix])\n",
    "    \n",
    "    #backward pass\n",
    "    for p in parameters:\n",
    "        p.grad = None\n",
    "    loss.backward()\n",
    "    #update\n",
    "    learningRate = learningRateSteps[i]\n",
    "    for p in parameters:\n",
    "        p.data += -learningRate * p.grad\n",
    "    #Track the learning rates\n",
    "    learningRateI.append(learningRateExponent[i])\n",
    "    lossI.append(loss.item())\n"
   ]
  },
  {
   "cell_type": "code",
   "execution_count": 248,
   "metadata": {},
   "outputs": [
    {
     "data": {
      "text/plain": [
       "[<matplotlib.lines.Line2D at 0x1dc9316e710>]"
      ]
     },
     "execution_count": 248,
     "metadata": {},
     "output_type": "execute_result"
    },
    {
     "data": {
      "image/png": "[encoded data removed]",
      "text/plain": [
       "<Figure size 640x480 with 1 Axes>"
      ]
     },
     "metadata": {},
     "output_type": "display_data"
    }
   ],
   "source": [
    "plt.plot(learningRateI, lossI)"
   ]
  },
  {
   "cell_type": "markdown",
   "metadata": {},
   "source": [
    "As it turns out our guess that 10**-1 = 0.1 is a good learning step turned out to be good.\n",
    "\n",
    "In practice we would also make our learning rate decay... As our loss gets smaller and starts to stagnate we decrease it to minimize the risk of overshooting"
   ]
  },
  {
   "cell_type": "markdown",
   "metadata": {},
   "source": [
    "## Splitting the Data Set and Quailty evalution\n",
    "\n",
    "In practice we split our data to e.g: 80% Training Data, 10% Dev/Validation Data, 10% Test Data\n",
    "- Training Data is used for paramter optimazation\n",
    "- Validation Data is used for hyperparameter optimization (number of parameters, number of hidden layers), we basically try a lot of combination to see which works best in our case\n",
    "- Test is for quality evaluation (WARNING: If you test to often, then your model will more and more learn from your test data, and start overfitting the test!!!)"
   ]
  }
 ],
 "metadata": {
  "kernelspec": {
   "display_name": "base",
   "language": "python",
   "name": "python3"
  },
  "language_info": {
   "codemirror_mode": {
    "name": "ipython",
    "version": 3
   },
   "file_extension": ".py",
   "mimetype": "text/x-python",
   "name": "python",
   "nbconvert_exporter": "python",
   "pygments_lexer": "ipython3",
   "version": "3.11.7"
  }
 },
 "nbformat": 4,
 "nbformat_minor": 2
}
