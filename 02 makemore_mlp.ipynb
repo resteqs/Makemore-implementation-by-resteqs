{
 "cells": [
  {
   "cell_type": "markdown",
   "metadata": {},
   "source": [
    "# Exercises Part2: \n",
    "- E01: Tune the hyperparameters of the training to beat my best validation loss of 2.2\n",
    "- E02: I was not careful with the intialization of the network in this video. (1) What is the loss you'd get if the predicted probabilities at initialization were perfectly uniform? What loss do we achieve? (2) Can you tune the initialization to get a starting loss that is much more similar to (1)?\n",
    "- E03: Read the Bengio et al 2003 paper ([link](https://www.youtube.com/redirect?event=video_description&redir_token=QUFFLUhqbnlHNlB5V2ZGT3lSVVljeXNMMGlUa2ktbmx3d3xBQ3Jtc0tsUGdMSU5OcWVEUHFxd0RzTVJQLVZnMzY3N3UzQXlzRE93ZjEydklDR0YwYWd6OThLNDJvNFNFM3FkajhGWGNtaU9ZVXl2VmkzR0NoYWdNUGpyeTd1RG9LN1dSRklQUHdkaEs5RWlPQWZxeW1rLUM3QQ&q=https%3A%2F%2Fwww.jmlr.org%2Fpapers%2Fvolume3%2Fbengio03a%2Fbengio03a.pdf&v=TCH_1BHY58I)), implement and try any idea from the paper. Did it work?\n"
   ]
  },
  {
   "cell_type": "code",
   "execution_count": 2,
   "metadata": {},
   "outputs": [],
   "source": [
    "import torch\n",
    "import torch.nn.functional as F\n",
    "import matplotlib.pyplot as plt #for making figures\n",
    "%matplotlib inline"
   ]
  },
  {
   "cell_type": "code",
   "execution_count": 3,
   "metadata": {},
   "outputs": [
    {
     "data": {
      "text/plain": [
       "['emma', 'olivia', 'ava', 'isabella', 'sophia', 'charlotte', 'mia', 'amelia']"
      ]
     },
     "execution_count": 3,
     "metadata": {},
     "output_type": "execute_result"
    }
   ],
   "source": [
    "words = open(\"names.txt\", \"r\").read().splitlines()\n",
    "words[:8]"
   ]
  },
  {
   "cell_type": "code",
   "execution_count": 4,
   "metadata": {},
   "outputs": [
    {
     "data": {
      "text/plain": [
       "32033"
      ]
     },
     "execution_count": 4,
     "metadata": {},
     "output_type": "execute_result"
    }
   ],
   "source": [
    "len(words)\n"
   ]
  },
  {
   "cell_type": "code",
   "execution_count": 5,
   "metadata": {},
   "outputs": [
    {
     "name": "stdout",
     "output_type": "stream",
     "text": [
      "{1: 'a', 2: 'b', 3: 'c', 4: 'd', 5: 'e', 6: 'f', 7: 'g', 8: 'h', 9: 'i', 10: 'j', 11: 'k', 12: 'l', 13: 'm', 14: 'n', 15: 'o', 16: 'p', 17: 'q', 18: 'r', 19: 's', 20: 't', 21: 'u', 22: 'v', 23: 'w', 24: 'x', 25: 'y', 26: 'z', 0: '.'}\n"
     ]
    }
   ],
   "source": [
    "#String to integer and integer to string mappings have been created\n",
    "chars = sorted(list(set( \"\".join(words))))\n",
    "stoi = {s:i+1 for i,s in enumerate(chars)}\n",
    "stoi[\".\"] = 0\n",
    "itos = {i:s for s,i in stoi.items()}\n",
    "print(itos)\n"
   ]
  },
  {
   "cell_type": "code",
   "execution_count": 6,
   "metadata": {},
   "outputs": [
    {
     "name": "stdout",
     "output_type": "stream",
     "text": [
      "emma\n",
      "... ---> e\n",
      "..e ---> m\n",
      ".em ---> m\n",
      "emm ---> a\n",
      "mma ---> .\n",
      "olivia\n",
      "... ---> o\n",
      "..o ---> l\n",
      ".ol ---> i\n",
      "oli ---> v\n",
      "liv ---> i\n",
      "ivi ---> a\n",
      "via ---> .\n",
      "ava\n",
      "... ---> a\n",
      "..a ---> v\n",
      ".av ---> a\n",
      "ava ---> .\n",
      "isabella\n",
      "... ---> i\n",
      "..i ---> s\n",
      ".is ---> a\n",
      "isa ---> b\n",
      "sab ---> e\n",
      "abe ---> l\n",
      "bel ---> l\n",
      "ell ---> a\n",
      "lla ---> .\n",
      "sophia\n",
      "... ---> s\n",
      "..s ---> o\n",
      ".so ---> p\n",
      "sop ---> h\n",
      "oph ---> i\n",
      "phi ---> a\n",
      "hia ---> .\n"
     ]
    }
   ],
   "source": [
    "# build the dataset\n",
    "\n",
    "block_size = 3 #Number of characters used to predict the next one \n",
    "X, Y = [], [] #X are the inputs, Y are the labels\n",
    "for w in words[:5]:\n",
    "    print(w)\n",
    "    context = [0] * block_size\n",
    "    for ch in w + \".\":\n",
    "        ix = stoi[ch]\n",
    "        X.append(context)\n",
    "        Y.append(ix)\n",
    "        print(\"\".join(itos[i] for i in context), \"--->\", itos[ix])\n",
    "        context = context[1:] + [ix]\n",
    "\n",
    "X = torch.tensor(X)\n",
    "Y = torch.tensor(Y)"
   ]
  },
  {
   "cell_type": "markdown",
   "metadata": {},
   "source": [
    "<img src= \"Screenshot 2024-05-14 150859.png\" width= \"600\n",
    "\">\n"
   ]
  },
  {
   "cell_type": "code",
   "execution_count": 7,
   "metadata": {},
   "outputs": [
    {
     "data": {
      "text/plain": [
       "(torch.Size([32, 3]), torch.int64, torch.Size([32]), torch.int64)"
      ]
     },
     "execution_count": 7,
     "metadata": {},
     "output_type": "execute_result"
    }
   ],
   "source": [
    "X.shape, X.dtype, Y.shape, Y.dtype"
   ]
  },
  {
   "cell_type": "code",
   "execution_count": 8,
   "metadata": {},
   "outputs": [
    {
     "data": {
      "text/plain": [
       "tensor([[ 1.5580, -0.5386],\n",
       "        [-0.1774,  0.3138],\n",
       "        [ 1.1124, -0.0921],\n",
       "        [ 1.1124, -0.0921],\n",
       "        [ 1.1124, -0.0921],\n",
       "        [ 1.1124, -0.0921]])"
      ]
     },
     "execution_count": 8,
     "metadata": {},
     "output_type": "execute_result"
    }
   ],
   "source": [
    "C = torch.randn((27, 2)) #We want to embed each of our 27 characters into a 2 dimensionial space\n",
    "C\n",
    "C[5]\n",
    "C[[5,6,7]]\n",
    "C[torch.tensor([5,6,7,7,7,7])] #Some random ways to access only some specific rows\n",
    "\n"
   ]
  },
  {
   "cell_type": "code",
   "execution_count": 9,
   "metadata": {},
   "outputs": [
    {
     "data": {
      "text/plain": [
       "tensor([[[-0.0592,  1.7875],\n",
       "         [-0.0592,  1.7875],\n",
       "         [-0.0592,  1.7875]],\n",
       "\n",
       "        [[-0.0592,  1.7875],\n",
       "         [-0.0592,  1.7875],\n",
       "         [ 1.5580, -0.5386]],\n",
       "\n",
       "        [[-0.0592,  1.7875],\n",
       "         [ 1.5580, -0.5386],\n",
       "         [-1.3439,  0.5324]],\n",
       "\n",
       "        [[ 1.5580, -0.5386],\n",
       "         [-1.3439,  0.5324],\n",
       "         [-1.3439,  0.5324]],\n",
       "\n",
       "        [[-1.3439,  0.5324],\n",
       "         [-1.3439,  0.5324],\n",
       "         [-0.0338,  1.7611]],\n",
       "\n",
       "        [[-0.0592,  1.7875],\n",
       "         [-0.0592,  1.7875],\n",
       "         [-0.0592,  1.7875]],\n",
       "\n",
       "        [[-0.0592,  1.7875],\n",
       "         [-0.0592,  1.7875],\n",
       "         [ 1.4627, -0.3431]],\n",
       "\n",
       "        [[-0.0592,  1.7875],\n",
       "         [ 1.4627, -0.3431],\n",
       "         [-1.1225,  1.1957]],\n",
       "\n",
       "        [[ 1.4627, -0.3431],\n",
       "         [-1.1225,  1.1957],\n",
       "         [ 0.1063,  2.2454]],\n",
       "\n",
       "        [[-1.1225,  1.1957],\n",
       "         [ 0.1063,  2.2454],\n",
       "         [-0.7675, -0.3616]],\n",
       "\n",
       "        [[ 0.1063,  2.2454],\n",
       "         [-0.7675, -0.3616],\n",
       "         [ 0.1063,  2.2454]],\n",
       "\n",
       "        [[-0.7675, -0.3616],\n",
       "         [ 0.1063,  2.2454],\n",
       "         [-0.0338,  1.7611]],\n",
       "\n",
       "        [[-0.0592,  1.7875],\n",
       "         [-0.0592,  1.7875],\n",
       "         [-0.0592,  1.7875]],\n",
       "\n",
       "        [[-0.0592,  1.7875],\n",
       "         [-0.0592,  1.7875],\n",
       "         [-0.0338,  1.7611]],\n",
       "\n",
       "        [[-0.0592,  1.7875],\n",
       "         [-0.0338,  1.7611],\n",
       "         [-0.7675, -0.3616]],\n",
       "\n",
       "        [[-0.0338,  1.7611],\n",
       "         [-0.7675, -0.3616],\n",
       "         [-0.0338,  1.7611]],\n",
       "\n",
       "        [[-0.0592,  1.7875],\n",
       "         [-0.0592,  1.7875],\n",
       "         [-0.0592,  1.7875]],\n",
       "\n",
       "        [[-0.0592,  1.7875],\n",
       "         [-0.0592,  1.7875],\n",
       "         [ 0.1063,  2.2454]],\n",
       "\n",
       "        [[-0.0592,  1.7875],\n",
       "         [ 0.1063,  2.2454],\n",
       "         [ 0.4664, -1.6295]],\n",
       "\n",
       "        [[ 0.1063,  2.2454],\n",
       "         [ 0.4664, -1.6295],\n",
       "         [-0.0338,  1.7611]],\n",
       "\n",
       "        [[ 0.4664, -1.6295],\n",
       "         [-0.0338,  1.7611],\n",
       "         [-0.1555, -1.2618]],\n",
       "\n",
       "        [[-0.0338,  1.7611],\n",
       "         [-0.1555, -1.2618],\n",
       "         [ 1.5580, -0.5386]],\n",
       "\n",
       "        [[-0.1555, -1.2618],\n",
       "         [ 1.5580, -0.5386],\n",
       "         [-1.1225,  1.1957]],\n",
       "\n",
       "        [[ 1.5580, -0.5386],\n",
       "         [-1.1225,  1.1957],\n",
       "         [-1.1225,  1.1957]],\n",
       "\n",
       "        [[-1.1225,  1.1957],\n",
       "         [-1.1225,  1.1957],\n",
       "         [-0.0338,  1.7611]],\n",
       "\n",
       "        [[-0.0592,  1.7875],\n",
       "         [-0.0592,  1.7875],\n",
       "         [-0.0592,  1.7875]],\n",
       "\n",
       "        [[-0.0592,  1.7875],\n",
       "         [-0.0592,  1.7875],\n",
       "         [ 0.4664, -1.6295]],\n",
       "\n",
       "        [[-0.0592,  1.7875],\n",
       "         [ 0.4664, -1.6295],\n",
       "         [ 1.4627, -0.3431]],\n",
       "\n",
       "        [[ 0.4664, -1.6295],\n",
       "         [ 1.4627, -0.3431],\n",
       "         [-1.3804, -0.0306]],\n",
       "\n",
       "        [[ 1.4627, -0.3431],\n",
       "         [-1.3804, -0.0306],\n",
       "         [-0.7986,  1.1125]],\n",
       "\n",
       "        [[-1.3804, -0.0306],\n",
       "         [-0.7986,  1.1125],\n",
       "         [ 0.1063,  2.2454]],\n",
       "\n",
       "        [[-0.7986,  1.1125],\n",
       "         [ 0.1063,  2.2454],\n",
       "         [-0.0338,  1.7611]]])"
      ]
     },
     "execution_count": 9,
     "metadata": {},
     "output_type": "execute_result"
    }
   ],
   "source": [
    "emb = C[X]\n",
    "emb.shape\n",
    "emb\n"
   ]
  },
  {
   "cell_type": "markdown",
   "metadata": {},
   "source": [
    "<img src= \"Unbenannt.png\" width= \"600\n",
    "\"> </br>\n",
    "The indexes of letters from 0-26 get replaced by their embeding into a 2 Dimensional Space, with initial values generated at random from a normal distribution "
   ]
  },
  {
   "cell_type": "code",
   "execution_count": 10,
   "metadata": {},
   "outputs": [
    {
     "data": {
      "text/plain": [
       "tensor([[ 0.9660,  0.9937, -0.9804,  ...,  0.9742, -0.0939,  0.9245],\n",
       "        [ 0.9887, -0.2929, -0.9995,  ...,  0.3528, -0.9914,  0.2964],\n",
       "        [-0.1756,  0.6162, -0.6402,  ...,  0.9999,  0.9884, -0.5720],\n",
       "        ...,\n",
       "        [ 0.6276,  0.5890,  0.9994,  ..., -0.9984,  0.8313,  0.9999],\n",
       "        [ 0.9900,  1.0000,  0.2879,  ..., -0.9772,  0.8287,  0.9995],\n",
       "        [ 0.9936,  0.9998, -0.9976,  ...,  0.9124, -0.1108,  0.8657]])"
      ]
     },
     "execution_count": 10,
     "metadata": {},
     "output_type": "execute_result"
    }
   ],
   "source": [
    "W1 = torch.randn((6,100)) #What does 6,100 mean? The Hidden layer in the middle has 3 inputs, which actually are our 3 characters as input\n",
    "# Each of them is embedded to 2D space 2x3 = 6. So each of the 100 Neurons we created is feeded with 6 values which all get a weight we first init randomly\n",
    "b1 = torch.randn(100) #Every neuron also gets a random bias \n",
    "\n",
    "#Neuron = (input1 * weight1 + ... + input6 * weight 6) + bias\n",
    "#So we want emb @ W1 + b1 which multiplies all our examples with weights and adds a bias BUT:\n",
    "#We can not multiply a shape [32,3,2] @ [100,6] we need to squash it to [32,6] @ [6,100]\n",
    "\n",
    "torch.cat(torch.unbind(emb, 1), 1)# <=> torch.cat ([emb[:,0 , :], emb[:,1 , :], emb[:,2 , :]], 1) Which means we take a list of 0th letters, 1st letters and 2nd letters and squash them\n",
    "\n",
    "#BUUUUUT! This is not very efficient... There is a better way\n",
    "\n",
    "#Each tensor stores something called .storage(), this is a one dimensional representation of the tensor, because thats how it is stored in PC memory\n",
    "#The method .view() manipulates how this originally one-dim tensor (or array in simpler words) is interpreted by PyTorch, so no values are copied, no additional memory is needed etc.\n",
    "\n",
    "h = emb.view(32,6) @ W1 + b1 #Voilaaaaaa!!!\n",
    "\n",
    "#BUUUT: We dont want to hardcode numbers...\n",
    "h = emb.view(emb.shape[0], 6) @ W1 + b1\n",
    "#But why is 6 still here... Shuu Shuu go away... Well we already agreed on 3 input letters and 2 Dimensional embedings so its kinda okay...\n",
    "\n",
    "h = torch.tanh(h) #Look at the image, the layer is non linear, it is a tanh \n",
    "h"
   ]
  },
  {
   "cell_type": "markdown",
   "metadata": {},
   "source": [
    "<img src= \"Screenshot 2024-05-14 150859.png\" width= \"300\n",
    "\"><img src= \"tanh.jpg\" width= \"300\n",
    "\">\n",
    "<img src= \"hyperbolic functions.png\" width= \"300\n",
    "\">\n",
    "https://www.youtube.com/watch?v=HnHnEnkZpJA Video zum Thema hyperbolic trigonmometric functions"
   ]
  },
  {
   "cell_type": "code",
   "execution_count": 11,
   "metadata": {},
   "outputs": [],
   "source": [
    "#Now we create our Output layer:\n",
    "W2 = torch.randn((100, 27))\n",
    "b2 = torch.randn(27)\n",
    "#Again lets take a moment here. We create a layer with 27 Neurons where each neuron gets 100 inputs from the 100 neurons of the previous layer\n",
    "logits = h @ W2 + b2 #What are logits? Logits are the outputs of a neural network. Usually, we plug the outputs to a softmax in order to receive a probability distribution \n",
    "counts = logits.exp()\n",
    "prob =  counts / counts.sum(1, keepdim= True) #Look at the image below. This is softmax"
   ]
  },
  {
   "cell_type": "markdown",
   "metadata": {},
   "source": [
    "<img src=\"th-1496899846.png\" alt=\"Example Image\" width=\"300\" >\n",
    "</br>\n",
    "We take our \"counts\" and transform them into probs below </br></br>\n",
    "<img src=\"probrow.png\" alt=\"Example Image\" width=\"300\" >\n",
    "</br> \n",
    "As you can see the probability distribution for each of the X Inputs is one\n",
    "\n",
    "Logits have the shape [x, 100] @ [100, 27] -> [x, 27], where x is every encoded example as a row and 27 is the prob distribution for each character which sums up to one in every row"
   ]
  },
  {
   "cell_type": "markdown",
   "metadata": {},
   "source": [
    "</br></br>\n",
    "Now lets us look at the following:"
   ]
  },
  {
   "cell_type": "code",
   "execution_count": 12,
   "metadata": {},
   "outputs": [
    {
     "name": "stdout",
     "output_type": "stream",
     "text": [
      "tensor([1.6607e-10, 2.7081e-05, 9.9928e-01, 4.7430e-08, 2.3529e-03, 1.0369e-11,\n",
      "        1.0618e-06, 5.1761e-13, 7.8575e-04, 3.6077e-08, 3.4364e-14, 1.1078e-07,\n",
      "        1.3826e-15, 2.6756e-09, 4.8361e-14, 2.7973e-09, 9.4927e-11, 1.1038e-12,\n",
      "        5.7218e-11, 5.3980e-12, 1.8350e-10, 9.6790e-05, 1.5418e-07, 4.4385e-08,\n",
      "        1.4960e-07, 9.6693e-14, 5.3134e-11, 1.3334e-17, 4.0008e-11, 4.7207e-04,\n",
      "        1.4870e-12, 2.6391e-09])\n"
     ]
    },
    {
     "data": {
      "text/plain": [
       "tensor(20.3157)"
      ]
     },
     "execution_count": 12,
     "metadata": {},
     "output_type": "execute_result"
    }
   ],
   "source": [
    "enumerator = torch.arange(prob.size(dim = 0))\n",
    "print(prob[enumerator, Y])\n",
    "nll = -prob[enumerator, Y].log().mean() #We put all values from the table below and log them, then we take an average and then we take it by -1 to get a positive number\n",
    "nll # <- Negative Log likelihood"
   ]
  },
  {
   "cell_type": "markdown",
   "metadata": {},
   "source": [
    "We can calculate the loss in a much easier way with a built in PyTorch function. Use in practice the expression below for better efficiency. Also backwardpass is much easier\n",
    "Additionally there is one more problem. Look at the image:</br>\n",
    "<img src=\"exp problem.png\" alt=\"Example Image\" width=\"300\" > </br>\n",
    "when some logits get extreme positve values we run out of range (inf) and get a prob nan(Not a number), we can avoid it with the built in function.\n",
    "BUT how does PyTorch make it work? It turns out if you subtract a constant from all logits then we dont affect the prob distribution, so PyTorch looks for the biggest logit and substracts its value from all the logits so when end up with negative logits and 0. Now we can calculate the probs without the (inf) problem and still get the correct result"
   ]
  },
  {
   "cell_type": "code",
   "execution_count": 13,
   "metadata": {},
   "outputs": [
    {
     "data": {
      "text/plain": [
       "tensor(20.3157)"
      ]
     },
     "execution_count": 13,
     "metadata": {},
     "output_type": "execute_result"
    }
   ],
   "source": [
    "F.cross_entropy(logits, Y)"
   ]
  },
  {
   "cell_type": "markdown",
   "metadata": {},
   "source": [
    "What does it mean? We print for every row of prob the current probability we give to the actual correct next character (Y if you remember are our labels)\n",
    "Then as you might recall we calculate the negative log likelihood, which we will try to minimize, for our network.\n"
   ]
  },
  {
   "cell_type": "code",
   "execution_count": 14,
   "metadata": {},
   "outputs": [
    {
     "data": {
      "text/plain": [
       "3481"
      ]
     },
     "execution_count": 14,
     "metadata": {},
     "output_type": "execute_result"
    }
   ],
   "source": [
    "parameters = [C, W1, b1, W2, b2]\n",
    "sum(p.nelement() for p in parameters)"
   ]
  },
  {
   "cell_type": "markdown",
   "metadata": {},
   "source": [
    "## Summary \n",
    "we now rewrite some bits to bring it all together and create the training loop"
   ]
  },
  {
   "cell_type": "code",
   "execution_count": 15,
   "metadata": {},
   "outputs": [],
   "source": [
    "for p in parameters:\n",
    "    p.requires_grad = True"
   ]
  },
  {
   "cell_type": "code",
   "execution_count": 16,
   "metadata": {},
   "outputs": [
    {
     "name": "stdout",
     "output_type": "stream",
     "text": [
      "20.315717697143555\n",
      "15.561311721801758\n",
      "12.575206756591797\n",
      "10.628411293029785\n",
      "9.204436302185059\n",
      "8.025666236877441\n",
      "7.002436637878418\n",
      "6.04934024810791\n",
      "5.244919300079346\n",
      "4.538655757904053\n",
      "3.9428608417510986\n",
      "3.4904258251190186\n",
      "3.166780471801758\n",
      "2.911238431930542\n",
      "2.6955888271331787\n",
      "2.50197696685791\n",
      "2.320918560028076\n",
      "2.149221420288086\n",
      "1.986756682395935\n",
      "1.8347790241241455\n",
      "1.694566011428833\n",
      "1.5664585828781128\n",
      "1.4500885009765625\n",
      "1.3449156284332275\n",
      "1.2502349615097046\n",
      "1.1649971008300781\n",
      "1.0879219770431519\n",
      "1.01785409450531\n",
      "0.9539304375648499\n",
      "0.8955068588256836\n",
      "0.8420462608337402\n",
      "0.7930740118026733\n",
      "0.7481948137283325\n",
      "0.7071291208267212\n",
      "0.6697683930397034\n",
      "0.6362210512161255\n",
      "0.6067798137664795\n",
      "0.5817209482192993\n",
      "0.5609772205352783\n",
      "0.543985903263092\n",
      "0.5299080610275269\n",
      "0.5179624557495117\n",
      "0.5075786709785461\n",
      "0.4983762502670288\n",
      "0.49010464549064636\n",
      "0.4825904965400696\n",
      "0.47570833563804626\n",
      "0.46936309337615967\n",
      "0.4634808897972107\n",
      "0.458001971244812\n",
      "0.4528774619102478\n",
      "0.4480670690536499\n",
      "0.4435363709926605\n",
      "0.439256489276886\n",
      "0.4352024793624878\n",
      "0.4313526153564453\n",
      "0.4276886582374573\n",
      "0.42419418692588806\n",
      "0.42085498571395874\n",
      "0.4176579415798187\n",
      "0.41459253430366516\n",
      "0.4116484820842743\n",
      "0.40881678462028503\n",
      "0.4060899615287781\n",
      "0.403460294008255\n",
      "0.40092161297798157\n",
      "0.39846837520599365\n",
      "0.3960946500301361\n",
      "0.3937961459159851\n",
      "0.3915683627128601\n",
      "0.38940709829330444\n",
      "0.38730913400650024\n",
      "0.38527053594589233\n",
      "0.3832886517047882\n",
      "0.38136035203933716\n",
      "0.37948328256607056\n",
      "0.3776547908782959\n",
      "0.37587276101112366\n",
      "0.37413492798805237\n",
      "0.3724393844604492\n",
      "0.3707845211029053\n",
      "0.36916840076446533\n",
      "0.36758947372436523\n",
      "0.3660464286804199\n",
      "0.36453765630722046\n",
      "0.3630618751049042\n",
      "0.3616179823875427\n",
      "0.3602047860622406\n",
      "0.35882115364074707\n",
      "0.3574662208557129\n",
      "0.3561386466026306\n",
      "0.3548378646373749\n",
      "0.35356295108795166\n",
      "0.3523128628730774\n",
      "0.35108721256256104\n",
      "0.34988486766815186\n",
      "0.3487052917480469\n",
      "0.3475477695465088\n",
      "0.346411794424057\n",
      "0.34529662132263184\n"
     ]
    }
   ],
   "source": [
    "for _ in range (100):\n",
    "    #forward pass\n",
    "    emb = C[X]\n",
    "    h = torch.tanh(emb.view(-1,6) @ W1 + b1) \n",
    "    logits = h @ W2 + b2 \n",
    "    loss = F.cross_entropy(logits, Y)\n",
    "    print(loss.item())\n",
    "    #backward pass\n",
    "    for p in parameters:\n",
    "        p.grad = None\n",
    "    loss.backward()\n",
    "    #update\n",
    "    for p in parameters:\n",
    "        p.data += -0.1 * p.grad"
   ]
  },
  {
   "cell_type": "markdown",
   "metadata": {},
   "source": [
    "### Overfitting:\n",
    "At first we only worked with the first 5 words, so our Model with over 3000 Params overfitted the data extremly, but nevertheless we didnt get loss = 0. Why? It's because already in the data set with have ambiguities like ... -> e and ... -> o </br>\n",
    "This means we can not possibly fit our current model perfectly to the data already. \n",
    "### Now lets look at training the entire data set: \n",
    "Yet again we copy the code for better visibility:"
   ]
  },
  {
   "cell_type": "code",
   "execution_count": 17,
   "metadata": {},
   "outputs": [],
   "source": [
    "# build the dataset but this time with all words\n",
    "\n",
    "block_size = 3 #Number of characters used to predict the next one \n",
    "X, Y = [], [] #X are the inputs, Y are the labels\n",
    "for w in words:\n",
    "    context = [0] * block_size\n",
    "    for ch in w + \".\":\n",
    "        ix = stoi[ch]\n",
    "        X.append(context)\n",
    "        Y.append(ix)\n",
    "        context = context[1:] + [ix]\n",
    "\n",
    "X = torch.tensor(X)\n",
    "Y = torch.tensor(Y)\n",
    "\n",
    "#Init the embedings C, the params W1, b1, W2, p2\n",
    "C = torch.randn((27, 2)) \n",
    "W1 = torch.randn((6,100))\n",
    "b1 = torch.randn(100) #Every neuron also gets a random bias \n",
    "W2 = torch.randn((100, 27))\n",
    "b2 = torch.randn(27)\n",
    "parameters = [C, W1, b1, W2, b2]\n",
    "for p in parameters: \n",
    "    p.requires_grad = True"
   ]
  },
  {
   "cell_type": "markdown",
   "metadata": {},
   "source": [
    "Now we encounter a performance issue, as the training takes really long... The solutions are Minibatches! We calculate the gradient based on some randomly choosen samples (batches). This leads to 2 things:\n",
    "    - Our gradient is of lower quality\n",
    "    - Our trainigssteps are much faster\n",
    "In reality it is better to have a good estimate of the gradient (\"direction we move towards to\") and make more steps then have a precise value and do fewer steps\n",
    "\n",
    "ix = torch.randint(0, X.shape[0], (32,)):\n",
    "- Generates random 32 integers in a tuple from 0 to the length of X (number of examples)\n",
    "\n",
    "emb = C[X[ix]]:\n",
    "- We create a tuple of our embeded Vectors into the 2D space, but only of those 32 from the minibatch"
   ]
  },
  {
   "cell_type": "code",
   "execution_count": 18,
   "metadata": {},
   "outputs": [
    {
     "name": "stdout",
     "output_type": "stream",
     "text": [
      "2.695675849914551\n"
     ]
    }
   ],
   "source": [
    "for _ in range (10000):\n",
    "    ix = torch.randint(0, X.shape[0], (32,)) #Generates random 32 integers in a tuple from 0 to the length of X (number of examples)\n",
    "\n",
    "    #forward pass\n",
    "    emb = C[X[ix]]\n",
    "    h = torch.tanh(emb.view(-1,6) @ W1 + b1) \n",
    "    logits = h @ W2 + b2 \n",
    "    loss = F.cross_entropy(logits, Y[ix])\n",
    "    \n",
    "    #backward pass\n",
    "    for p in parameters:\n",
    "        p.grad = None\n",
    "    loss.backward()\n",
    "    #update\n",
    "    for p in parameters:\n",
    "        p.data += -0.1 * p.grad\n",
    "print(loss.item()) #Warning... This loss is calculated for the last minibatch not the entire set. Look below"
   ]
  },
  {
   "cell_type": "code",
   "execution_count": 19,
   "metadata": {},
   "outputs": [
    {
     "data": {
      "text/plain": [
       "2.464693546295166"
      ]
     },
     "execution_count": 19,
     "metadata": {},
     "output_type": "execute_result"
    }
   ],
   "source": [
    "#We calculate the loss for the entire set\n",
    "emb = C[X]\n",
    "h = torch.tanh(emb.view(-1,6) @ W1 + b1) \n",
    "logits = h @ W2 + b2 \n",
    "loss = F.cross_entropy(logits, Y)\n",
    "loss.item()"
   ]
  },
  {
   "cell_type": "markdown",
   "metadata": {},
   "source": [
    "### Our learning steps are currently 0.1, but it is just random... How to determine a good value?\n",
    "\n",
    "Step 1: \n",
    "- We try a couple of values like 0.0001 0.001 0.1 1 10 etc. and see where our steps are way to big (the loss is just jumping around like a kid with ADHD)\n",
    "Step 2:\n",
    "- We create an exponential distribution of the learning steps where the initial steps are small and later steps are bigger\n",
    "Step 3: \n",
    "- For each iteration apply a new learning rate and track the loss\n",
    "Step 4:\n",
    "- Plot it and choose the minimum value"
   ]
  },
  {
   "cell_type": "code",
   "execution_count": 20,
   "metadata": {},
   "outputs": [],
   "source": [
    "learningRateExponent = torch.linspace(-3, 0 ,1000)\n",
    "learningRateSteps = 10**learningRateExponent\n",
    "learningRateI = []\n",
    "lossI = []\n",
    "for i in range (1000):\n",
    "    ix = torch.randint(0, X.shape[0], (32,)) #Generates random 32 integers in a tuple from 0 to the length of X (number of examples)\n",
    "\n",
    "    #forward pass\n",
    "    emb = C[X[ix]]\n",
    "    h = torch.tanh(emb.view(-1,6) @ W1 + b1) \n",
    "    logits = h @ W2 + b2 \n",
    "    loss = F.cross_entropy(logits, Y[ix])\n",
    "    \n",
    "    #backward pass\n",
    "    for p in parameters:\n",
    "        p.grad = None\n",
    "    loss.backward()\n",
    "    #update\n",
    "    learningRate = learningRateSteps[i]\n",
    "    for p in parameters:\n",
    "        p.data += -learningRate * p.grad\n",
    "    #Track the learning rates\n",
    "    learningRateI.append(learningRateExponent[i])\n",
    "    lossI.append(loss.item())\n"
   ]
  },
  {
   "cell_type": "code",
   "execution_count": 21,
   "metadata": {},
   "outputs": [
    {
     "data": {
      "text/plain": [
       "[<matplotlib.lines.Line2D at 0x21a9ec482d0>]"
      ]
     },
     "execution_count": 21,
     "metadata": {},
     "output_type": "execute_result"
    },
    {
     "data": {
      "image/png": "[encoded data removed]",
      "text/plain": [
       "<Figure size 640x480 with 1 Axes>"
      ]
     },
     "metadata": {},
     "output_type": "display_data"
    }
   ],
   "source": [
    "plt.plot(learningRateI, lossI)"
   ]
  },
  {
   "cell_type": "markdown",
   "metadata": {},
   "source": [
    "As it turns out our guess that 10**-1 = 0.1 is a good learning step turned out to be good.\n",
    "\n",
    "In practice we would also make our learning rate decay... As our loss gets smaller and starts to stagnate we decrease it to minimize the risk of overshooting"
   ]
  },
  {
   "cell_type": "markdown",
   "metadata": {},
   "source": [
    "## Splitting the Data Set and Quailty evalution\n",
    "\n",
    "In practice we split our data to e.g: 80% Training Data, 10% Dev/Validation Data, 10% Test Data\n",
    "- Training Data is used for paramter optimazation\n",
    "- Validation Data is used for hyperparameter optimization (number of parameters, number of hidden layers), we basically try a lot of combination to see which works best in our case\n",
    "- Test is for quality evaluation (WARNING: If you test to often, then your model will more and more learn from your test data, and start overfitting the test!!!)"
   ]
  }
 ],
 "metadata": {
  "kernelspec": {
   "display_name": "base",
   "language": "python",
   "name": "python3"
  },
  "language_info": {
   "codemirror_mode": {
    "name": "ipython",
    "version": 3
   },
   "file_extension": ".py",
   "mimetype": "text/x-python",
   "name": "python",
   "nbconvert_exporter": "python",
   "pygments_lexer": "ipython3",
   "version": "3.11.7"
  }
 },
 "nbformat": 4,
 "nbformat_minor": 2
}
