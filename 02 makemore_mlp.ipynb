{
 "cells": [
  {
   "cell_type": "markdown",
   "metadata": {},
   "source": [
    "# Exercises Part2: \n",
    "- E01: Tune the hyperparameters of the training to beat my best validation loss of 2.2\n",
    "- E02: I was not careful with the intialization of the network in this video. (1) What is the loss you'd get if the predicted probabilities at initialization were perfectly uniform? What loss do we achieve? (2) Can you tune the initialization to get a starting loss that is much more similar to (1)?\n",
    "- E03: Read the Bengio et al 2003 paper ([link](https://www.youtube.com/redirect?event=video_description&redir_token=QUFFLUhqbnlHNlB5V2ZGT3lSVVljeXNMMGlUa2ktbmx3d3xBQ3Jtc0tsUGdMSU5OcWVEUHFxd0RzTVJQLVZnMzY3N3UzQXlzRE93ZjEydklDR0YwYWd6OThLNDJvNFNFM3FkajhGWGNtaU9ZVXl2VmkzR0NoYWdNUGpyeTd1RG9LN1dSRklQUHdkaEs5RWlPQWZxeW1rLUM3QQ&q=https%3A%2F%2Fwww.jmlr.org%2Fpapers%2Fvolume3%2Fbengio03a%2Fbengio03a.pdf&v=TCH_1BHY58I)), implement and try any idea from the paper. Did it work?\n"
   ]
  },
  {
   "cell_type": "code",
   "execution_count": 2,
   "metadata": {},
   "outputs": [],
   "source": [
    "import torch\n",
    "import torch.nn.functional as F\n",
    "import matplotlib.pyplot as plt #for making figures\n",
    "%matplotlib inline"
   ]
  },
  {
   "cell_type": "code",
   "execution_count": 3,
   "metadata": {},
   "outputs": [
    {
     "data": {
      "text/plain": [
       "['emma', 'olivia', 'ava', 'isabella', 'sophia', 'charlotte', 'mia', 'amelia']"
      ]
     },
     "execution_count": 3,
     "metadata": {},
     "output_type": "execute_result"
    }
   ],
   "source": [
    "words = open(\"names.txt\", \"r\").read().splitlines()\n",
    "words[:8]"
   ]
  },
  {
   "cell_type": "code",
   "execution_count": 4,
   "metadata": {},
   "outputs": [
    {
     "data": {
      "text/plain": [
       "32033"
      ]
     },
     "execution_count": 4,
     "metadata": {},
     "output_type": "execute_result"
    }
   ],
   "source": [
    "len(words)\n"
   ]
  },
  {
   "cell_type": "code",
   "execution_count": 5,
   "metadata": {},
   "outputs": [
    {
     "name": "stdout",
     "output_type": "stream",
     "text": [
      "{1: 'a', 2: 'b', 3: 'c', 4: 'd', 5: 'e', 6: 'f', 7: 'g', 8: 'h', 9: 'i', 10: 'j', 11: 'k', 12: 'l', 13: 'm', 14: 'n', 15: 'o', 16: 'p', 17: 'q', 18: 'r', 19: 's', 20: 't', 21: 'u', 22: 'v', 23: 'w', 24: 'x', 25: 'y', 26: 'z', 0: '.'}\n"
     ]
    }
   ],
   "source": [
    "#String to integer and integer to string mappings have been created\n",
    "chars = sorted(list(set( \"\".join(words))))\n",
    "stoi = {s:i+1 for i,s in enumerate(chars)}\n",
    "stoi[\".\"] = 0\n",
    "itos = {i:s for s,i in stoi.items()}\n",
    "print(itos)\n"
   ]
  },
  {
   "cell_type": "code",
   "execution_count": 6,
   "metadata": {},
   "outputs": [
    {
     "name": "stdout",
     "output_type": "stream",
     "text": [
      "emma\n",
      "... ---> e\n",
      "..e ---> m\n",
      ".em ---> m\n",
      "emm ---> a\n",
      "mma ---> .\n",
      "olivia\n",
      "... ---> o\n",
      "..o ---> l\n",
      ".ol ---> i\n",
      "oli ---> v\n",
      "liv ---> i\n",
      "ivi ---> a\n",
      "via ---> .\n",
      "ava\n",
      "... ---> a\n",
      "..a ---> v\n",
      ".av ---> a\n",
      "ava ---> .\n",
      "isabella\n",
      "... ---> i\n",
      "..i ---> s\n",
      ".is ---> a\n",
      "isa ---> b\n",
      "sab ---> e\n",
      "abe ---> l\n",
      "bel ---> l\n",
      "ell ---> a\n",
      "lla ---> .\n",
      "sophia\n",
      "... ---> s\n",
      "..s ---> o\n",
      ".so ---> p\n",
      "sop ---> h\n",
      "oph ---> i\n",
      "phi ---> a\n",
      "hia ---> .\n"
     ]
    }
   ],
   "source": [
    "# build the dataset\n",
    "\n",
    "block_size = 3 #Number of characters used to predict the next one \n",
    "X, Y = [], [] #X are the inputs, Y are the labels\n",
    "for w in words[:5]:\n",
    "    print(w)\n",
    "    context = [0] * block_size\n",
    "    for ch in w + \".\":\n",
    "        ix = stoi[ch]\n",
    "        X.append(context)\n",
    "        Y.append(ix)\n",
    "        print(\"\".join(itos[i] for i in context), \"--->\", itos[ix])\n",
    "        context = context[1:] + [ix]\n",
    "\n",
    "X = torch.tensor(X)\n",
    "Y = torch.tensor(Y)"
   ]
  },
  {
   "cell_type": "markdown",
   "metadata": {},
   "source": [
    "<img src= \"Screenshot 2024-05-14 150859.png\" width= \"600\n",
    "\">\n"
   ]
  },
  {
   "cell_type": "code",
   "execution_count": 7,
   "metadata": {},
   "outputs": [
    {
     "data": {
      "text/plain": [
       "(torch.Size([32, 3]), torch.int64, torch.Size([32]), torch.int64)"
      ]
     },
     "execution_count": 7,
     "metadata": {},
     "output_type": "execute_result"
    }
   ],
   "source": [
    "X.shape, X.dtype, Y.shape, Y.dtype"
   ]
  },
  {
   "cell_type": "code",
   "execution_count": 8,
   "metadata": {},
   "outputs": [
    {
     "data": {
      "text/plain": [
       "tensor([[-0.5061,  1.6545],\n",
       "        [-2.3851,  0.9435],\n",
       "        [ 0.0253,  1.2304],\n",
       "        [ 0.0253,  1.2304],\n",
       "        [ 0.0253,  1.2304],\n",
       "        [ 0.0253,  1.2304]])"
      ]
     },
     "execution_count": 8,
     "metadata": {},
     "output_type": "execute_result"
    }
   ],
   "source": [
    "C = torch.randn((27, 2)) #We want to embed each of our 27 characters into a 2 dimensionial space\n",
    "C\n",
    "C[5]\n",
    "C[[5,6,7]]\n",
    "C[torch.tensor([5,6,7,7,7,7])] #Some random ways to access only some specific rows\n",
    "\n"
   ]
  },
  {
   "cell_type": "code",
   "execution_count": 9,
   "metadata": {},
   "outputs": [
    {
     "data": {
      "text/plain": [
       "tensor([[[-1.7150, -0.6836],\n",
       "         [-1.7150, -0.6836],\n",
       "         [-1.7150, -0.6836]],\n",
       "\n",
       "        [[-1.7150, -0.6836],\n",
       "         [-1.7150, -0.6836],\n",
       "         [-0.5061,  1.6545]],\n",
       "\n",
       "        [[-1.7150, -0.6836],\n",
       "         [-0.5061,  1.6545],\n",
       "         [ 1.7050, -0.2429]],\n",
       "\n",
       "        [[-0.5061,  1.6545],\n",
       "         [ 1.7050, -0.2429],\n",
       "         [ 1.7050, -0.2429]],\n",
       "\n",
       "        [[ 1.7050, -0.2429],\n",
       "         [ 1.7050, -0.2429],\n",
       "         [ 1.3831, -0.0400]],\n",
       "\n",
       "        [[-1.7150, -0.6836],\n",
       "         [-1.7150, -0.6836],\n",
       "         [-1.7150, -0.6836]],\n",
       "\n",
       "        [[-1.7150, -0.6836],\n",
       "         [-1.7150, -0.6836],\n",
       "         [ 1.9578, -1.3886]],\n",
       "\n",
       "        [[-1.7150, -0.6836],\n",
       "         [ 1.9578, -1.3886],\n",
       "         [-1.5054,  0.0518]],\n",
       "\n",
       "        [[ 1.9578, -1.3886],\n",
       "         [-1.5054,  0.0518],\n",
       "         [-1.4726,  0.4415]],\n",
       "\n",
       "        [[-1.5054,  0.0518],\n",
       "         [-1.4726,  0.4415],\n",
       "         [-0.1191, -0.7085]],\n",
       "\n",
       "        [[-1.4726,  0.4415],\n",
       "         [-0.1191, -0.7085],\n",
       "         [-1.4726,  0.4415]],\n",
       "\n",
       "        [[-0.1191, -0.7085],\n",
       "         [-1.4726,  0.4415],\n",
       "         [ 1.3831, -0.0400]],\n",
       "\n",
       "        [[-1.7150, -0.6836],\n",
       "         [-1.7150, -0.6836],\n",
       "         [-1.7150, -0.6836]],\n",
       "\n",
       "        [[-1.7150, -0.6836],\n",
       "         [-1.7150, -0.6836],\n",
       "         [ 1.3831, -0.0400]],\n",
       "\n",
       "        [[-1.7150, -0.6836],\n",
       "         [ 1.3831, -0.0400],\n",
       "         [-0.1191, -0.7085]],\n",
       "\n",
       "        [[ 1.3831, -0.0400],\n",
       "         [-0.1191, -0.7085],\n",
       "         [ 1.3831, -0.0400]],\n",
       "\n",
       "        [[-1.7150, -0.6836],\n",
       "         [-1.7150, -0.6836],\n",
       "         [-1.7150, -0.6836]],\n",
       "\n",
       "        [[-1.7150, -0.6836],\n",
       "         [-1.7150, -0.6836],\n",
       "         [-1.4726,  0.4415]],\n",
       "\n",
       "        [[-1.7150, -0.6836],\n",
       "         [-1.4726,  0.4415],\n",
       "         [ 0.2180,  1.4004]],\n",
       "\n",
       "        [[-1.4726,  0.4415],\n",
       "         [ 0.2180,  1.4004],\n",
       "         [ 1.3831, -0.0400]],\n",
       "\n",
       "        [[ 0.2180,  1.4004],\n",
       "         [ 1.3831, -0.0400],\n",
       "         [ 0.6853, -0.5956]],\n",
       "\n",
       "        [[ 1.3831, -0.0400],\n",
       "         [ 0.6853, -0.5956],\n",
       "         [-0.5061,  1.6545]],\n",
       "\n",
       "        [[ 0.6853, -0.5956],\n",
       "         [-0.5061,  1.6545],\n",
       "         [-1.5054,  0.0518]],\n",
       "\n",
       "        [[-0.5061,  1.6545],\n",
       "         [-1.5054,  0.0518],\n",
       "         [-1.5054,  0.0518]],\n",
       "\n",
       "        [[-1.5054,  0.0518],\n",
       "         [-1.5054,  0.0518],\n",
       "         [ 1.3831, -0.0400]],\n",
       "\n",
       "        [[-1.7150, -0.6836],\n",
       "         [-1.7150, -0.6836],\n",
       "         [-1.7150, -0.6836]],\n",
       "\n",
       "        [[-1.7150, -0.6836],\n",
       "         [-1.7150, -0.6836],\n",
       "         [ 0.2180,  1.4004]],\n",
       "\n",
       "        [[-1.7150, -0.6836],\n",
       "         [ 0.2180,  1.4004],\n",
       "         [ 1.9578, -1.3886]],\n",
       "\n",
       "        [[ 0.2180,  1.4004],\n",
       "         [ 1.9578, -1.3886],\n",
       "         [-0.3137,  2.0782]],\n",
       "\n",
       "        [[ 1.9578, -1.3886],\n",
       "         [-0.3137,  2.0782],\n",
       "         [-0.1803, -0.7066]],\n",
       "\n",
       "        [[-0.3137,  2.0782],\n",
       "         [-0.1803, -0.7066],\n",
       "         [-1.4726,  0.4415]],\n",
       "\n",
       "        [[-0.1803, -0.7066],\n",
       "         [-1.4726,  0.4415],\n",
       "         [ 1.3831, -0.0400]]])"
      ]
     },
     "execution_count": 9,
     "metadata": {},
     "output_type": "execute_result"
    }
   ],
   "source": [
    "emb = C[X]\n",
    "emb.shape\n",
    "emb\n"
   ]
  },
  {
   "cell_type": "markdown",
   "metadata": {},
   "source": [
    "<img src= \"Unbenannt.png\" width= \"600\n",
    "\"> </br>\n",
    "The indexes of letters from 0-26 get replaced by their embeding into a 2 Dimensional Space, with initial values generated at random from a normal distribution "
   ]
  },
  {
   "cell_type": "code",
   "execution_count": 10,
   "metadata": {},
   "outputs": [
    {
     "data": {
      "text/plain": [
       "tensor([[-0.9857, -1.0000,  0.9940,  ..., -0.3423, -0.9871, -0.1197],\n",
       "        [-0.8469, -1.0000,  0.1938,  ..., -0.9995, -0.9439,  0.8581],\n",
       "        [ 0.9970, -0.8209,  0.9564,  ..., -1.0000, -0.9234, -0.8540],\n",
       "        ...,\n",
       "        [-0.4924, -0.9997, -0.9957,  ..., -0.6273,  0.9980, -0.9990],\n",
       "        [-0.8252, -0.6309,  0.9882,  ..., -0.5610,  0.9873,  0.9085],\n",
       "        [ 0.2909, -0.8464,  0.9845,  ..., -0.9998, -0.8826, -0.3849]])"
      ]
     },
     "execution_count": 10,
     "metadata": {},
     "output_type": "execute_result"
    }
   ],
   "source": [
    "W1 = torch.randn((6,100)) #What does 6,100 mean? The Hidden layer in the middle has 3 inputs, which actually are our 3 characters as input\n",
    "# Each of them is embedded to 2D space 2x3 = 6. So each of the 100 Neurons we created is feeded with 6 values which all get a weight we first init randomly\n",
    "b1 = torch.randn(100) #Every neuron also gets a random bias \n",
    "\n",
    "#Neuron = (input1 * weight1 + ... + input6 * weight 6) + bias\n",
    "#So we want emb @ W1 + b1 which multiplies all our examples with weights and adds a bias BUT:\n",
    "#We can not multiply a shape [32,3,2] @ [100,6] we need to squash it to [32,6] @ [6,100]\n",
    "\n",
    "torch.cat(torch.unbind(emb, 1), 1)# <=> torch.cat ([emb[:,0 , :], emb[:,1 , :], emb[:,2 , :]], 1) Which means we take a list of 0th letters, 1st letters and 2nd letters and squash them\n",
    "\n",
    "#BUUUUUT! This is not very efficient... There is a better way\n",
    "\n",
    "#Each tensor stores something called .storage(), this is a one dimensional representation of the tensor, because thats how it is stored in PC memory\n",
    "#The method .view() manipulates how this originally one-dim tensor (or array in simpler words) is interpreted by PyTorch, so no values are copied, no additional memory is needed etc.\n",
    "\n",
    "h = emb.view(32,6) @ W1 + b1 #Voilaaaaaa!!!\n",
    "\n",
    "#BUUUT: We dont want to hardcode numbers...\n",
    "h = emb.view(emb.shape[0], 6) @ W1 + b1\n",
    "#But why is 6 still here... Shuu Shuu go away... Well we already agreed on 3 input letters and 2 Dimensional embedings so its kinda okay...\n",
    "\n",
    "h = torch.tanh(h) #Look at the image, the layer is non linear, it is a tanh \n",
    "h"
   ]
  },
  {
   "cell_type": "markdown",
   "metadata": {},
   "source": [
    "<img src= \"Screenshot 2024-05-14 150859.png\" width= \"300\n",
    "\"><img src= \"tanh.jpg\" width= \"300\n",
    "\">\n",
    "<img src= \"hyperbolic functions.png\" width= \"300\n",
    "\">\n",
    "https://www.youtube.com/watch?v=HnHnEnkZpJA Video zum Thema hyperbolic trigonmometric functions"
   ]
  },
  {
   "cell_type": "code",
   "execution_count": 11,
   "metadata": {},
   "outputs": [],
   "source": [
    "#Now we create our Output layer:\n",
    "W2 = torch.randn((100, 27))\n",
    "b2 = torch.randn(27)\n",
    "#Again lets take a moment here. We create a layer with 27 Neurons where each neuron gets 100 inputs from the 100 neurons of the previous layer\n",
    "logits = h @ W2 + b2 #What are logits? Logits are the outputs of a neural network. Usually, we plug the outputs to a softmax in order to receive a probability distribution \n",
    "counts = logits.exp()\n",
    "prob =  counts / counts.sum(1, keepdim= True) #Look at the image below. This is softmax"
   ]
  },
  {
   "cell_type": "markdown",
   "metadata": {},
   "source": [
    "<img src=\"th-1496899846.png\" alt=\"Example Image\" width=\"300\" >\n",
    "</br>\n",
    "We take our \"counts\" and transform them into probs below </br></br>\n",
    "<img src=\"probrow.png\" alt=\"Example Image\" width=\"300\" >\n",
    "</br> \n",
    "As you can see the probability distribution for each of the X Inputs is one\n",
    "\n",
    "Logits have the shape [x, 100] @ [100, 27] -> [x, 27], where x is every encoded example as a row and 27 is the prob distribution for each character which sums up to one in every row"
   ]
  },
  {
   "cell_type": "markdown",
   "metadata": {},
   "source": [
    "</br></br>\n",
    "Now lets us look at the following:"
   ]
  },
  {
   "cell_type": "code",
   "execution_count": 12,
   "metadata": {},
   "outputs": [
    {
     "name": "stdout",
     "output_type": "stream",
     "text": [
      "tensor([1.3025e-01, 3.8926e-04, 1.7992e-03, 1.2137e-12, 4.8242e-05, 2.2904e-07,\n",
      "        1.6982e-03, 3.8250e-12, 1.2905e-13, 1.9174e-06, 3.9271e-05, 3.3453e-07,\n",
      "        3.3163e-05, 3.1745e-07, 7.0190e-15, 7.4478e-05, 1.4509e-06, 8.8919e-05,\n",
      "        5.5245e-05, 5.9859e-13, 4.2587e-08, 1.2145e-10, 2.0315e-01, 1.3577e-01,\n",
      "        1.1994e-07, 6.3822e-03, 9.4358e-09, 2.3605e-05, 8.7261e-04, 8.8834e-08,\n",
      "        1.5121e-01, 5.4876e-07])\n"
     ]
    },
    {
     "data": {
      "text/plain": [
       "tensor(13.4574)"
      ]
     },
     "execution_count": 12,
     "metadata": {},
     "output_type": "execute_result"
    }
   ],
   "source": [
    "enumerator = torch.arange(prob.size(dim = 0))\n",
    "print(prob[enumerator, Y])\n",
    "nll = -prob[enumerator, Y].log().mean() #We put all values from the table below and log them, then we take an average and then we take it by -1 to get a positive number\n",
    "nll # <- Negative Log likelihood"
   ]
  },
  {
   "cell_type": "markdown",
   "metadata": {},
   "source": [
    "We can calculate the loss in a much easier way with a built in PyTorch function. Use in practice the expression below for better efficiency. Also backwardpass is much easier\n",
    "Additionally there is one more problem. Look at the image:</br>\n",
    "<img src=\"exp problem.png\" alt=\"Example Image\" width=\"300\" > </br>\n",
    "when some logits get extreme positve values we run out of range (inf) and get a prob nan(Not a number), we can avoid it with the built in function.\n",
    "BUT how does PyTorch make it work? It turns out if you subtract a constant from all logits then we dont affect the prob distribution, so PyTorch looks for the biggest logit and substracts its value from all the logits so when end up with negative logits and 0. Now we can calculate the probs without the (inf) problem and still get the correct result"
   ]
  },
  {
   "cell_type": "code",
   "execution_count": 13,
   "metadata": {},
   "outputs": [
    {
     "data": {
      "text/plain": [
       "tensor(13.4574)"
      ]
     },
     "execution_count": 13,
     "metadata": {},
     "output_type": "execute_result"
    }
   ],
   "source": [
    "F.cross_entropy(logits, Y)"
   ]
  },
  {
   "cell_type": "markdown",
   "metadata": {},
   "source": [
    "What does it mean? We print for every row of prob the current probability we give to the actual correct next character (Y if you remember are our labels)\n",
    "Then as you might recall we calculate the negative log likelihood, which we will try to minimize, for our network.\n"
   ]
  },
  {
   "cell_type": "code",
   "execution_count": 14,
   "metadata": {},
   "outputs": [
    {
     "data": {
      "text/plain": [
       "3481"
      ]
     },
     "execution_count": 14,
     "metadata": {},
     "output_type": "execute_result"
    }
   ],
   "source": [
    "parameters = [C, W1, b1, W2, b2]\n",
    "sum(p.nelement() for p in parameters)"
   ]
  },
  {
   "cell_type": "markdown",
   "metadata": {},
   "source": [
    "## Summary \n",
    "we now rewrite some bits to bring it all together and create the training loop"
   ]
  },
  {
   "cell_type": "code",
   "execution_count": 15,
   "metadata": {},
   "outputs": [],
   "source": [
    "for p in parameters:\n",
    "    p.requires_grad = True"
   ]
  },
  {
   "cell_type": "code",
   "execution_count": 16,
   "metadata": {},
   "outputs": [
    {
     "name": "stdout",
     "output_type": "stream",
     "text": [
      "13.457374572753906\n",
      "11.312481880187988\n",
      "9.508956909179688\n",
      "8.00850772857666\n",
      "6.768146514892578\n",
      "5.797405242919922\n",
      "5.033994197845459\n",
      "4.420660972595215\n",
      "3.9244182109832764\n",
      "3.50034761428833\n",
      "3.117119550704956\n",
      "2.766828775405884\n",
      "2.461956262588501\n",
      "2.243572950363159\n",
      "2.0783092975616455\n",
      "1.9631829261779785\n",
      "1.6150888204574585\n",
      "1.4326852560043335\n",
      "1.3032927513122559\n",
      "1.2141846418380737\n",
      "1.1321470737457275\n",
      "1.0820577144622803\n",
      "0.9742426872253418\n",
      "0.905036985874176\n",
      "0.8186840415000916\n",
      "0.7629956603050232\n",
      "0.7061641812324524\n",
      "0.6668649911880493\n",
      "0.6227142214775085\n",
      "0.5931641459465027\n",
      "0.5582883954048157\n",
      "0.5361823439598083\n",
      "0.5102478861808777\n",
      "0.4943958520889282\n",
      "0.4753085672855377\n",
      "0.46397051215171814\n",
      "0.44946661591529846\n",
      "0.4410887360572815\n",
      "0.42969849705696106\n",
      "0.4232742190361023\n",
      "0.41411787271499634\n",
      "0.4090421497821808\n",
      "0.4015396237373352\n",
      "0.39742711186408997\n",
      "0.39116376638412476\n",
      "0.38775479793548584\n",
      "0.3824310898780823\n",
      "0.3795448839664459\n",
      "0.37494438886642456\n",
      "0.3724535405635834\n",
      "0.36841753125190735\n",
      "0.3662295937538147\n",
      "0.3626399338245392\n",
      "0.3606870472431183\n",
      "0.35745418071746826\n",
      "0.3556845486164093\n",
      "0.35273951292037964\n",
      "0.35111385583877563\n",
      "0.3484032154083252\n",
      "0.3468906283378601\n",
      "0.3443722724914551\n",
      "0.3429485857486725\n",
      "0.340589702129364\n",
      "0.3392364978790283\n",
      "0.33701181411743164\n",
      "0.3357149064540863\n",
      "0.33360517024993896\n",
      "0.3323541283607483\n",
      "0.3303453326225281\n",
      "0.3291327655315399\n",
      "0.3272153437137604\n",
      "0.3260364532470703\n",
      "0.32420432567596436\n",
      "0.32305699586868286\n",
      "0.3213065564632416\n",
      "0.3201901614665985\n",
      "0.31852012872695923\n",
      "0.3174351453781128\n",
      "0.3158454895019531\n",
      "0.31479358673095703\n",
      "0.3132847845554352\n",
      "0.31226736307144165\n",
      "0.31083983182907104\n",
      "0.309859037399292\n",
      "0.3085126578807831\n",
      "0.30756980180740356\n",
      "0.3063037097454071\n",
      "0.305400013923645\n",
      "0.30421242117881775\n",
      "0.3033483624458313\n",
      "0.30223673582077026\n",
      "0.3014124035835266\n",
      "0.3003734052181244\n",
      "0.29958826303482056\n",
      "0.2986180782318115\n",
      "0.2978711426258087\n",
      "0.2969655990600586\n",
      "0.2962559461593628\n",
      "0.29541048407554626\n",
      "0.2947366237640381\n"
     ]
    }
   ],
   "source": [
    "for _ in range (100):\n",
    "    #forward pass\n",
    "    emb = C[X]\n",
    "    h = torch.tanh(emb.view(-1,6) @ W1 + b1) \n",
    "    logits = h @ W2 + b2 \n",
    "    loss = F.cross_entropy(logits, Y)\n",
    "    print(loss.item())\n",
    "    #backward pass\n",
    "    for p in parameters:\n",
    "        p.grad = None\n",
    "    loss.backward()\n",
    "    #update\n",
    "    for p in parameters:\n",
    "        p.data += -0.1 * p.grad"
   ]
  },
  {
   "cell_type": "markdown",
   "metadata": {},
   "source": [
    "### Overfitting:\n",
    "At first we only worked with the first 5 words, so our Model with over 3000 Params overfitted the data extremly, but nevertheless we didnt get loss = 0. Why? It's because already in the data set with have ambiguities like ... -> e and ... -> o </br>\n",
    "This means we can not possibly fit our current model perfectly to the data already. \n",
    "### Now lets look at training the entire data set: \n",
    "Yet again we copy the code for better visibility:"
   ]
  },
  {
   "cell_type": "code",
   "execution_count": 17,
   "metadata": {},
   "outputs": [],
   "source": [
    "# build the dataset but this time with all words\n",
    "\n",
    "block_size = 3 #Number of characters used to predict the next one \n",
    "X, Y = [], [] #X are the inputs, Y are the labels\n",
    "for w in words:\n",
    "    context = [0] * block_size\n",
    "    for ch in w + \".\":\n",
    "        ix = stoi[ch]\n",
    "        X.append(context)\n",
    "        Y.append(ix)\n",
    "        context = context[1:] + [ix]\n",
    "\n",
    "X = torch.tensor(X)\n",
    "Y = torch.tensor(Y)\n",
    "\n",
    "#Init the embedings C, the params W1, b1, W2, p2\n",
    "C = torch.randn((27, 2)) \n",
    "W1 = torch.randn((6,100))\n",
    "b1 = torch.randn(100) #Every neuron also gets a random bias \n",
    "W2 = torch.randn((100, 27))\n",
    "b2 = torch.randn(27)\n",
    "parameters = [C, W1, b1, W2, b2]\n",
    "for p in parameters: \n",
    "    p.requires_grad = True"
   ]
  },
  {
   "cell_type": "markdown",
   "metadata": {},
   "source": [
    "Now we encounter a performance issue, as the training takes really long... The solutions are Minibatches! We calculate the gradient based on some randomly choosen samples (batches). This leads to 2 things:\n",
    "    - Our gradient is of lower quality\n",
    "    - Our trainigssteps are much faster\n",
    "In reality it is better to have a good estimate of the gradient (\"direction we move towards to\") and make more steps then have a precise value and do fewer steps\n",
    "\n",
    "ix = torch.randint(0, X.shape[0], (32,)):\n",
    "- Generates random 32 integers in a tuple from 0 to the length of X (number of examples)\n",
    "\n",
    "emb = C[X[ix]]:\n",
    "- We create a tuple of our embeded Vectors into the 2D space, but only of those 32 from the minibatch"
   ]
  },
  {
   "cell_type": "code",
   "execution_count": 18,
   "metadata": {},
   "outputs": [
    {
     "name": "stdout",
     "output_type": "stream",
     "text": [
      "2.2173352241516113\n"
     ]
    }
   ],
   "source": [
    "for _ in range (10000):\n",
    "    ix = torch.randint(0, X.shape[0], (32,)) #Generates random 32 integers in a tuple from 0 to the length of X (number of examples)\n",
    "\n",
    "    #forward pass\n",
    "    emb = C[X[ix]]\n",
    "    h = torch.tanh(emb.view(-1,6) @ W1 + b1) \n",
    "    logits = h @ W2 + b2 \n",
    "    loss = F.cross_entropy(logits, Y[ix])\n",
    "    \n",
    "    #backward pass\n",
    "    for p in parameters:\n",
    "        p.grad = None\n",
    "    loss.backward()\n",
    "    #update\n",
    "    for p in parameters:\n",
    "        p.data += -0.1 * p.grad\n",
    "print(loss.item()) #Warning... This loss is calculated for the last minibatch not the entire set. Look below"
   ]
  },
  {
   "cell_type": "code",
   "execution_count": 19,
   "metadata": {},
   "outputs": [
    {
     "data": {
      "text/plain": [
       "2.5029125213623047"
      ]
     },
     "execution_count": 19,
     "metadata": {},
     "output_type": "execute_result"
    }
   ],
   "source": [
    "#We calculate the loss for the entire set\n",
    "emb = C[X]\n",
    "h = torch.tanh(emb.view(-1,6) @ W1 + b1) \n",
    "logits = h @ W2 + b2 \n",
    "loss = F.cross_entropy(logits, Y)\n",
    "loss.item()"
   ]
  },
  {
   "cell_type": "markdown",
   "metadata": {},
   "source": [
    "### Our learning steps are currently 0.1, but it is just random... How to determine a good value?\n",
    "\n",
    "Step 1: \n",
    "- We try a couple of values like 0.0001 0.001 0.1 1 10 etc. and see where our steps are way to big (the loss is just jumping around like a kid with ADHD)\n",
    "Step 2:\n",
    "- We create an exponential distribution of the learning steps where the initial steps are small and later steps are bigger\n",
    "Step 3: \n",
    "- For each iteration apply a new learning rate and track the loss\n",
    "Step 4:\n",
    "- Plot it and choose the minimum value"
   ]
  },
  {
   "cell_type": "code",
   "execution_count": 20,
   "metadata": {},
   "outputs": [],
   "source": [
    "learningRateExponent = torch.linspace(-3, 0 ,1000)\n",
    "learningRateSteps = 10**learningRateExponent\n",
    "learningRateI = []\n",
    "lossI = []\n",
    "for i in range (1000):\n",
    "    ix = torch.randint(0, X.shape[0], (32,)) #Generates random 32 integers in a tuple from 0 to the length of X (number of examples)\n",
    "\n",
    "    #forward pass\n",
    "    emb = C[X[ix]]\n",
    "    h = torch.tanh(emb.view(-1,6) @ W1 + b1) \n",
    "    logits = h @ W2 + b2 \n",
    "    loss = F.cross_entropy(logits, Y[ix])\n",
    "    \n",
    "    #backward pass\n",
    "    for p in parameters:\n",
    "        p.grad = None\n",
    "    loss.backward()\n",
    "    #update\n",
    "    learningRate = learningRateSteps[i]\n",
    "    for p in parameters:\n",
    "        p.data += -learningRate * p.grad\n",
    "    #Track the learning rates\n",
    "    learningRateI.append(learningRateExponent[i])\n",
    "    lossI.append(loss.item())\n"
   ]
  },
  {
   "cell_type": "code",
   "execution_count": 21,
   "metadata": {},
   "outputs": [
    {
     "data": {
      "text/plain": [
       "[<matplotlib.lines.Line2D at 0x25fa5202d10>]"
      ]
     },
     "execution_count": 21,
     "metadata": {},
     "output_type": "execute_result"
    },
    {
     "data": {
      "image/png": "[encoded data removed]",
      "text/plain": [
       "<Figure size 640x480 with 1 Axes>"
      ]
     },
     "metadata": {},
     "output_type": "display_data"
    }
   ],
   "source": [
    "plt.plot(learningRateI, lossI)"
   ]
  },
  {
   "cell_type": "markdown",
   "metadata": {},
   "source": [
    "As it turns out our guess that 10**-1 = 0.1 is a good learning step turned out to be good.\n",
    "\n",
    "In practice we would also make our learning rate decay... As our loss gets smaller and starts to stagnate we decrease it to minimize the risk of overshooting"
   ]
  },
  {
   "cell_type": "markdown",
   "metadata": {},
   "source": [
    "## Splitting the Data Set and Quailty evalution\n",
    "\n",
    "In practice we split our data to e.g: 80% Training Data, 10% Dev/Validation Data, 10% Test Data\n",
    "- Training Data is used for paramter optimazation\n",
    "- Validation Data is used for hyperparameter optimization (number of parameters, number of hidden layers), we basically try a lot of combination to see which works best in our case\n",
    "- Test is for quality evaluation (WARNING: If you test to often, then your model will more and more learn from your test data, and start overfitting the test!!!)"
   ]
  },
  {
   "cell_type": "code",
   "execution_count": 22,
   "metadata": {},
   "outputs": [
    {
     "name": "stdout",
     "output_type": "stream",
     "text": [
      "torch.Size([182625, 3]) torch.Size([182625])\n",
      "torch.Size([22655, 3]) torch.Size([22655])\n",
      "torch.Size([22866, 3]) torch.Size([22866])\n"
     ]
    }
   ],
   "source": [
    "# build the dataset but this time with all words\n",
    "\n",
    "def build_dataset(words):\n",
    "    block_size = 3 #Number of characters used to predict the next one \n",
    "    X, Y = [], [] #X are the inputs, Y are the labels\n",
    "    for w in words:\n",
    "        context = [0] * block_size\n",
    "        for ch in w + \".\":\n",
    "            ix = stoi[ch]\n",
    "            X.append(context)\n",
    "            Y.append(ix)\n",
    "            context = context[1:] + [ix]\n",
    "\n",
    "    X = torch.tensor(X)\n",
    "    Y = torch.tensor(Y)\n",
    "    print(X.shape, Y.shape)\n",
    "    return X, Y\n",
    "\n",
    "import random\n",
    "random.seed(42)\n",
    "random.shuffle(words) #We shuffle the words\n",
    "n1 = int(0.8 * len(words)) #We calculate where 80% and 90% is\n",
    "n2 = int (0.9 * len (words))\n",
    "\n",
    "Xtr, Ytr = build_dataset(words[:n1]) #Trainingset is from 0-80%\n",
    "Xdev, Ydev = build_dataset(words[n1:n2]) #Devset is from 80-90%\n",
    "Xte, Yte = build_dataset(words[n2:]) #Test set is from 90-100%\n",
    "\n",
    "\n",
    "\n",
    "#Init the embedings C, the params W1, b1, W2, p2\n",
    "C = torch.randn((27, 2)) \n",
    "W1 = torch.randn((6,100))\n",
    "b1 = torch.randn(100) #Every neuron also gets a random bias \n",
    "W2 = torch.randn((100, 27))\n",
    "b2 = torch.randn(27)\n",
    "parameters = [C, W1, b1, W2, b2]\n",
    "for p in parameters: \n",
    "    p.requires_grad = True"
   ]
  },
  {
   "cell_type": "code",
   "execution_count": 23,
   "metadata": {},
   "outputs": [
    {
     "name": "stdout",
     "output_type": "stream",
     "text": [
      "2.4336299896240234\n"
     ]
    }
   ],
   "source": [
    "#Training Loop but this time only on traingset\n",
    "for _ in range (300000):\n",
    "    ix = torch.randint(0, Xtr.shape[0], (32,)) #Generates random 32 integers in a tuple from 0 to the length of X (number of examples)\n",
    "\n",
    "    #forward pass\n",
    "    emb = C[Xtr[ix]]\n",
    "    h = torch.tanh(emb.view(-1,6) @ W1 + b1) \n",
    "    logits = h @ W2 + b2 \n",
    "    loss = F.cross_entropy(logits, Ytr[ix])\n",
    "    \n",
    "    #backward pass\n",
    "    for p in parameters:\n",
    "        p.grad = None\n",
    "    loss.backward()\n",
    "    #update\n",
    "    for p in parameters:\n",
    "        p.data += -0.1 * p.grad\n",
    "print(loss.item()) #Warning... This loss is calculated for the last minibatch not the entire set. Look below"
   ]
  },
  {
   "cell_type": "markdown",
   "metadata": {},
   "source": [
    "This time we evaluate using the Dev set"
   ]
  },
  {
   "cell_type": "code",
   "execution_count": 27,
   "metadata": {},
   "outputs": [
    {
     "name": "stdout",
     "output_type": "stream",
     "text": [
      "2.2674379348754883\n"
     ]
    },
    {
     "data": {
      "text/plain": [
       "2.2628657817840576"
      ]
     },
     "execution_count": 27,
     "metadata": {},
     "output_type": "execute_result"
    }
   ],
   "source": [
    "#We calculate the loss for the entire set\n",
    "emb = C[Xdev]\n",
    "h = torch.tanh(emb.view(-1,6) @ W1 + b1) \n",
    "logits = h @ W2 + b2 \n",
    "loss = F.cross_entropy(logits, Ydev)\n",
    "print(loss.item())\n",
    "\n",
    "emb = C[Xtr]\n",
    "h = torch.tanh(emb.view(-1,6) @ W1 + b1) \n",
    "logits = h @ W2 + b2 \n",
    "loss = F.cross_entropy(logits, Ytr)\n",
    "loss.item()"
   ]
  },
  {
   "cell_type": "markdown",
   "metadata": {},
   "source": [
    "# Underfitting\n",
    "We have both a high loss on the Training Data and the Validation Data -> We are underfitting. \n",
    "Let us scale our model in order to be be able to capture the complexity of the task better\n",
    "\n",
    "Tasks:\n",
    "- Increase the number of Neurons in the hidden layer \n",
    "- Increase the dimension of the letter embedings from 2D to 10 Dimensions"
   ]
  },
  {
   "cell_type": "code",
   "execution_count": 41,
   "metadata": {},
   "outputs": [
    {
     "name": "stdout",
     "output_type": "stream",
     "text": [
      "torch.Size([182512, 3]) torch.Size([182512])\n",
      "torch.Size([22860, 3]) torch.Size([22860])\n",
      "torch.Size([22774, 3]) torch.Size([22774])\n"
     ]
    }
   ],
   "source": [
    "# build the dataset but this time with all words\n",
    "\n",
    "def build_dataset(words):\n",
    "    block_size = 3 #Number of characters used to predict the next one \n",
    "    X, Y = [], [] #X are the inputs, Y are the labels\n",
    "    for w in words:\n",
    "        context = [0] * block_size\n",
    "        for ch in w + \".\":\n",
    "            ix = stoi[ch]\n",
    "            X.append(context)\n",
    "            Y.append(ix)\n",
    "            context = context[1:] + [ix]\n",
    "\n",
    "    X = torch.tensor(X)\n",
    "    Y = torch.tensor(Y)\n",
    "    print(X.shape, Y.shape)\n",
    "    return X, Y\n",
    "\n",
    "import random\n",
    "random.seed(42)\n",
    "random.shuffle(words) #We shuffle the words\n",
    "n1 = int(0.8 * len(words)) #We calculate where 80% and 90% is\n",
    "n2 = int (0.9 * len (words))\n",
    "\n",
    "Xtr, Ytr = build_dataset(words[:n1]) #Trainingset is from 0-80%\n",
    "Xdev, Ydev = build_dataset(words[n1:n2]) #Devset is from 80-90%\n",
    "Xte, Yte = build_dataset(words[n2:]) #Test set is from 90-100%\n",
    "\n",
    "\n",
    "\n",
    "#Init the embedings C, the params W1, b1, W2, p2\n",
    "C = torch.randn((27, 10)) \n",
    "W1 = torch.randn((30,200))\n",
    "b1 = torch.randn(200) #Every neuron also gets a random bias \n",
    "W2 = torch.randn((200, 27))\n",
    "b2 = torch.randn(27)\n",
    "parameters = [C, W1, b1, W2, b2]\n",
    "for p in parameters: \n",
    "    p.requires_grad = True"
   ]
  },
  {
   "cell_type": "code",
   "execution_count": 42,
   "metadata": {},
   "outputs": [],
   "source": [
    "lossI = []\n",
    "stepI = []"
   ]
  },
  {
   "cell_type": "code",
   "execution_count": 49,
   "metadata": {},
   "outputs": [],
   "source": [
    "#Training Loop but this time only on traingset\n",
    "for i in range (50000):\n",
    "    ix = torch.randint(0, Xtr.shape[0], (32,)) #Generates random 32 integers in a tuple from 0 to the length of X (number of examples)\n",
    "\n",
    "    #forward pass\n",
    "    emb = C[Xtr[ix]]\n",
    "    h = torch.tanh(emb.view(-1, 30) @ W1 + b1) \n",
    "    logits = h @ W2 + b2 \n",
    "    loss = F.cross_entropy(logits, Ytr[ix])\n",
    "    \n",
    "    #backward pass\n",
    "    for p in parameters:\n",
    "        p.grad = None\n",
    "    loss.backward()\n",
    "    #update\n",
    "    for p in parameters:\n",
    "        p.data += -0.01 * p.grad\n",
    "\n",
    "    stepI.append(i)\n",
    "    lossI.append(loss.log10().item())\n",
    "#print(loss.item()) #Warning... This loss is calculated for the last minibatch not the entire set. Look below"
   ]
  },
  {
   "cell_type": "code",
   "execution_count": 51,
   "metadata": {},
   "outputs": [
    {
     "data": {
      "text/plain": [
       "[<matplotlib.lines.Line2D at 0x25fae28f690>]"
      ]
     },
     "execution_count": 51,
     "metadata": {},
     "output_type": "execute_result"
    },
    {
     "data": {
      "image/png": "[encoded data removed]",
      "text/plain": [
       "<Figure size 640x480 with 1 Axes>"
      ]
     },
     "metadata": {},
     "output_type": "display_data"
    }
   ],
   "source": [
    "plt.plot(stepI, lossI)"
   ]
  },
  {
   "cell_type": "code",
   "execution_count": 50,
   "metadata": {},
   "outputs": [
    {
     "name": "stdout",
     "output_type": "stream",
     "text": [
      "2.2042109966278076\n"
     ]
    },
    {
     "data": {
      "text/plain": [
       "2.171963930130005"
      ]
     },
     "execution_count": 50,
     "metadata": {},
     "output_type": "execute_result"
    }
   ],
   "source": [
    "#We calculate the loss for the entire set\n",
    "emb = C[Xdev]\n",
    "h = torch.tanh(emb.view(-1,30) @ W1 + b1) \n",
    "logits = h @ W2 + b2 \n",
    "loss = F.cross_entropy(logits, Ydev)\n",
    "print(loss.item())\n",
    "\n",
    "emb = C[Xtr]\n",
    "h = torch.tanh(emb.view(-1,30) @ W1 + b1) \n",
    "logits = h @ W2 + b2 \n",
    "loss = F.cross_entropy(logits, Ytr)\n",
    "loss.item()"
   ]
  }
 ],
 "metadata": {
  "kernelspec": {
   "display_name": "base",
   "language": "python",
   "name": "python3"
  },
  "language_info": {
   "codemirror_mode": {
    "name": "ipython",
    "version": 3
   },
   "file_extension": ".py",
   "mimetype": "text/x-python",
   "name": "python",
   "nbconvert_exporter": "python",
   "pygments_lexer": "ipython3",
   "version": "3.11.7"
  }
 },
 "nbformat": 4,
 "nbformat_minor": 2
}
