{
 "cells": [
  {
   "cell_type": "markdown",
   "metadata": {},
   "source": [
    "# Exercises Part2: \n",
    "- E01: Tune the hyperparameters of the training to beat my best validation loss of 2.2\n",
    "- E02: I was not careful with the intialization of the network in this video. (1) What is the loss you'd get if the predicted probabilities at initialization were perfectly uniform? What loss do we achieve? (2) Can you tune the initialization to get a starting loss that is much more similar to (1)?\n",
    "- E03: Read the Bengio et al 2003 paper ([link](https://www.youtube.com/redirect?event=video_description&redir_token=QUFFLUhqbnlHNlB5V2ZGT3lSVVljeXNMMGlUa2ktbmx3d3xBQ3Jtc0tsUGdMSU5OcWVEUHFxd0RzTVJQLVZnMzY3N3UzQXlzRE93ZjEydklDR0YwYWd6OThLNDJvNFNFM3FkajhGWGNtaU9ZVXl2VmkzR0NoYWdNUGpyeTd1RG9LN1dSRklQUHdkaEs5RWlPQWZxeW1rLUM3QQ&q=https%3A%2F%2Fwww.jmlr.org%2Fpapers%2Fvolume3%2Fbengio03a%2Fbengio03a.pdf&v=TCH_1BHY58I)), implement and try any idea from the paper. Did it work?\n"
   ]
  },
  {
   "cell_type": "code",
   "execution_count": 1,
   "metadata": {},
   "outputs": [],
   "source": [
    "import torch\n",
    "import torch.nn.functional as F\n",
    "import matplotlib.pyplot as plt #for making figures\n",
    "%matplotlib inline"
   ]
  },
  {
   "cell_type": "code",
   "execution_count": 2,
   "metadata": {},
   "outputs": [
    {
     "data": {
      "text/plain": [
       "['emma', 'olivia', 'ava', 'isabella', 'sophia', 'charlotte', 'mia', 'amelia']"
      ]
     },
     "execution_count": 2,
     "metadata": {},
     "output_type": "execute_result"
    }
   ],
   "source": [
    "words = open(\"names.txt\", \"r\").read().splitlines()\n",
    "words[:8]"
   ]
  },
  {
   "cell_type": "code",
   "execution_count": 3,
   "metadata": {},
   "outputs": [
    {
     "data": {
      "text/plain": [
       "32033"
      ]
     },
     "execution_count": 3,
     "metadata": {},
     "output_type": "execute_result"
    }
   ],
   "source": [
    "len(words)\n"
   ]
  },
  {
   "cell_type": "code",
   "execution_count": 4,
   "metadata": {},
   "outputs": [
    {
     "name": "stdout",
     "output_type": "stream",
     "text": [
      "{1: 'a', 2: 'b', 3: 'c', 4: 'd', 5: 'e', 6: 'f', 7: 'g', 8: 'h', 9: 'i', 10: 'j', 11: 'k', 12: 'l', 13: 'm', 14: 'n', 15: 'o', 16: 'p', 17: 'q', 18: 'r', 19: 's', 20: 't', 21: 'u', 22: 'v', 23: 'w', 24: 'x', 25: 'y', 26: 'z', 0: '.'}\n"
     ]
    }
   ],
   "source": [
    "#String to integer and integer to string mappings have been created\n",
    "chars = sorted(list(set( \"\".join(words))))\n",
    "stoi = {s:i+1 for i,s in enumerate(chars)}\n",
    "stoi[\".\"] = 0\n",
    "itos = {i:s for s,i in stoi.items()}\n",
    "print(itos)\n"
   ]
  },
  {
   "cell_type": "code",
   "execution_count": 5,
   "metadata": {},
   "outputs": [
    {
     "name": "stdout",
     "output_type": "stream",
     "text": [
      "emma\n",
      "... ---> e\n",
      "..e ---> m\n",
      ".em ---> m\n",
      "emm ---> a\n",
      "mma ---> .\n",
      "olivia\n",
      "... ---> o\n",
      "..o ---> l\n",
      ".ol ---> i\n",
      "oli ---> v\n",
      "liv ---> i\n",
      "ivi ---> a\n",
      "via ---> .\n",
      "ava\n",
      "... ---> a\n",
      "..a ---> v\n",
      ".av ---> a\n",
      "ava ---> .\n",
      "isabella\n",
      "... ---> i\n",
      "..i ---> s\n",
      ".is ---> a\n",
      "isa ---> b\n",
      "sab ---> e\n",
      "abe ---> l\n",
      "bel ---> l\n",
      "ell ---> a\n",
      "lla ---> .\n",
      "sophia\n",
      "... ---> s\n",
      "..s ---> o\n",
      ".so ---> p\n",
      "sop ---> h\n",
      "oph ---> i\n",
      "phi ---> a\n",
      "hia ---> .\n"
     ]
    }
   ],
   "source": [
    "# build the dataset\n",
    "\n",
    "block_size = 3 #Number of characters used to predict the next one \n",
    "X, Y = [], [] #X are the inputs, Y are the labels\n",
    "for w in words[:5]:\n",
    "    print(w)\n",
    "    context = [0] * block_size\n",
    "    for ch in w + \".\":\n",
    "        ix = stoi[ch]\n",
    "        X.append(context)\n",
    "        Y.append(ix)\n",
    "        print(\"\".join(itos[i] for i in context), \"--->\", itos[ix])\n",
    "        context = context[1:] + [ix]\n",
    "\n",
    "X = torch.tensor(X)\n",
    "Y = torch.tensor(Y)"
   ]
  },
  {
   "cell_type": "markdown",
   "metadata": {},
   "source": [
    "<img src= \"Screenshot 2024-05-14 150859.png\" width= \"600\n",
    "\">\n"
   ]
  },
  {
   "cell_type": "code",
   "execution_count": 6,
   "metadata": {},
   "outputs": [
    {
     "data": {
      "text/plain": [
       "(torch.Size([32, 3]), torch.int64, torch.Size([32]), torch.int64)"
      ]
     },
     "execution_count": 6,
     "metadata": {},
     "output_type": "execute_result"
    }
   ],
   "source": [
    "X.shape, X.dtype, Y.shape, Y.dtype"
   ]
  },
  {
   "cell_type": "code",
   "execution_count": 7,
   "metadata": {},
   "outputs": [
    {
     "data": {
      "text/plain": [
       "tensor([[-0.3032,  0.2059],\n",
       "        [ 0.2355,  0.6495],\n",
       "        [-0.9482,  1.0219],\n",
       "        [-0.9482,  1.0219],\n",
       "        [-0.9482,  1.0219],\n",
       "        [-0.9482,  1.0219]])"
      ]
     },
     "execution_count": 7,
     "metadata": {},
     "output_type": "execute_result"
    }
   ],
   "source": [
    "C = torch.randn((27, 2)) #We want to embed each of our 27 characters into a 2 dimensionial space\n",
    "C\n",
    "C[5]\n",
    "C[[5,6,7]]\n",
    "C[torch.tensor([5,6,7,7,7,7])] #Some random ways to access only some specific rows\n",
    "\n"
   ]
  },
  {
   "cell_type": "code",
   "execution_count": 8,
   "metadata": {},
   "outputs": [
    {
     "data": {
      "text/plain": [
       "tensor([[[-1.4516,  0.0859],\n",
       "         [-1.4516,  0.0859],\n",
       "         [-1.4516,  0.0859]],\n",
       "\n",
       "        [[-1.4516,  0.0859],\n",
       "         [-1.4516,  0.0859],\n",
       "         [-0.3032,  0.2059]],\n",
       "\n",
       "        [[-1.4516,  0.0859],\n",
       "         [-0.3032,  0.2059],\n",
       "         [-0.3577, -1.5142]],\n",
       "\n",
       "        [[-0.3032,  0.2059],\n",
       "         [-0.3577, -1.5142],\n",
       "         [-0.3577, -1.5142]],\n",
       "\n",
       "        [[-0.3577, -1.5142],\n",
       "         [-0.3577, -1.5142],\n",
       "         [-0.0335, -1.2123]],\n",
       "\n",
       "        [[-1.4516,  0.0859],\n",
       "         [-1.4516,  0.0859],\n",
       "         [-1.4516,  0.0859]],\n",
       "\n",
       "        [[-1.4516,  0.0859],\n",
       "         [-1.4516,  0.0859],\n",
       "         [-0.5369, -1.3417]],\n",
       "\n",
       "        [[-1.4516,  0.0859],\n",
       "         [-0.5369, -1.3417],\n",
       "         [ 0.9743, -0.7957]],\n",
       "\n",
       "        [[-0.5369, -1.3417],\n",
       "         [ 0.9743, -0.7957],\n",
       "         [-0.6936, -0.2861]],\n",
       "\n",
       "        [[ 0.9743, -0.7957],\n",
       "         [-0.6936, -0.2861],\n",
       "         [-0.9500, -0.5548]],\n",
       "\n",
       "        [[-0.6936, -0.2861],\n",
       "         [-0.9500, -0.5548],\n",
       "         [-0.6936, -0.2861]],\n",
       "\n",
       "        [[-0.9500, -0.5548],\n",
       "         [-0.6936, -0.2861],\n",
       "         [-0.0335, -1.2123]],\n",
       "\n",
       "        [[-1.4516,  0.0859],\n",
       "         [-1.4516,  0.0859],\n",
       "         [-1.4516,  0.0859]],\n",
       "\n",
       "        [[-1.4516,  0.0859],\n",
       "         [-1.4516,  0.0859],\n",
       "         [-0.0335, -1.2123]],\n",
       "\n",
       "        [[-1.4516,  0.0859],\n",
       "         [-0.0335, -1.2123],\n",
       "         [-0.9500, -0.5548]],\n",
       "\n",
       "        [[-0.0335, -1.2123],\n",
       "         [-0.9500, -0.5548],\n",
       "         [-0.0335, -1.2123]],\n",
       "\n",
       "        [[-1.4516,  0.0859],\n",
       "         [-1.4516,  0.0859],\n",
       "         [-1.4516,  0.0859]],\n",
       "\n",
       "        [[-1.4516,  0.0859],\n",
       "         [-1.4516,  0.0859],\n",
       "         [-0.6936, -0.2861]],\n",
       "\n",
       "        [[-1.4516,  0.0859],\n",
       "         [-0.6936, -0.2861],\n",
       "         [ 0.6311, -0.4081]],\n",
       "\n",
       "        [[-0.6936, -0.2861],\n",
       "         [ 0.6311, -0.4081],\n",
       "         [-0.0335, -1.2123]],\n",
       "\n",
       "        [[ 0.6311, -0.4081],\n",
       "         [-0.0335, -1.2123],\n",
       "         [ 0.3325,  0.7738]],\n",
       "\n",
       "        [[-0.0335, -1.2123],\n",
       "         [ 0.3325,  0.7738],\n",
       "         [-0.3032,  0.2059]],\n",
       "\n",
       "        [[ 0.3325,  0.7738],\n",
       "         [-0.3032,  0.2059],\n",
       "         [ 0.9743, -0.7957]],\n",
       "\n",
       "        [[-0.3032,  0.2059],\n",
       "         [ 0.9743, -0.7957],\n",
       "         [ 0.9743, -0.7957]],\n",
       "\n",
       "        [[ 0.9743, -0.7957],\n",
       "         [ 0.9743, -0.7957],\n",
       "         [-0.0335, -1.2123]],\n",
       "\n",
       "        [[-1.4516,  0.0859],\n",
       "         [-1.4516,  0.0859],\n",
       "         [-1.4516,  0.0859]],\n",
       "\n",
       "        [[-1.4516,  0.0859],\n",
       "         [-1.4516,  0.0859],\n",
       "         [ 0.6311, -0.4081]],\n",
       "\n",
       "        [[-1.4516,  0.0859],\n",
       "         [ 0.6311, -0.4081],\n",
       "         [-0.5369, -1.3417]],\n",
       "\n",
       "        [[ 0.6311, -0.4081],\n",
       "         [-0.5369, -1.3417],\n",
       "         [-0.6495, -0.4819]],\n",
       "\n",
       "        [[-0.5369, -1.3417],\n",
       "         [-0.6495, -0.4819],\n",
       "         [-0.7888, -0.6830]],\n",
       "\n",
       "        [[-0.6495, -0.4819],\n",
       "         [-0.7888, -0.6830],\n",
       "         [-0.6936, -0.2861]],\n",
       "\n",
       "        [[-0.7888, -0.6830],\n",
       "         [-0.6936, -0.2861],\n",
       "         [-0.0335, -1.2123]]])"
      ]
     },
     "execution_count": 8,
     "metadata": {},
     "output_type": "execute_result"
    }
   ],
   "source": [
    "emb = C[X]\n",
    "emb.shape\n",
    "emb\n"
   ]
  },
  {
   "cell_type": "markdown",
   "metadata": {},
   "source": [
    "<img src= \"Unbenannt.png\" width= \"600\n",
    "\"> </br>\n",
    "The indexes of letters from 0-26 get replaced by their embeding into a 2 Dimensional Space, with initial values generated at random from a normal distribution "
   ]
  },
  {
   "cell_type": "code",
   "execution_count": 9,
   "metadata": {},
   "outputs": [
    {
     "data": {
      "text/plain": [
       "tensor([[-0.2199,  0.9799, -1.0000,  ...,  0.9231,  0.9999,  0.0798],\n",
       "        [-0.8969,  0.9889, -1.0000,  ...,  0.9855,  0.9999,  0.6544],\n",
       "        [-0.0352, -0.0213, -0.9990,  ...,  0.2866,  0.9989,  0.0375],\n",
       "        ...,\n",
       "        [ 0.8563,  0.3799, -0.9990,  ..., -0.9074,  0.9845,  0.7987],\n",
       "        [ 0.7022,  0.7824, -0.9996,  ...,  0.5021,  0.9972,  0.8996],\n",
       "        [-0.3440,  0.4485, -0.9982,  ..., -0.5059,  0.9890,  0.8098]])"
      ]
     },
     "execution_count": 9,
     "metadata": {},
     "output_type": "execute_result"
    }
   ],
   "source": [
    "W1 = torch.randn((6,100)) #What does 6,100 mean? The Hidden layer in the middle has 3 inputs, which actually are our 3 characters as input\n",
    "# Each of them is embedded to 2D space 2x3 = 6. So each of the 100 Neurons we created is feeded with 6 values which all get a weight we first init randomly\n",
    "b1 = torch.randn(100) #Every neuron also gets a random bias \n",
    "\n",
    "#Neuron = (input1 * weight1 + ... + input6 * weight 6) + bias\n",
    "#So we want emb @ W1 + b1 which multiplies all our examples with weights and adds a bias BUT:\n",
    "#We can not multiply a shape [32,3,2] @ [100,6] we need to squash it to [32,6] @ [6,100]\n",
    "\n",
    "torch.cat(torch.unbind(emb, 1), 1)# <=> torch.cat ([emb[:,0 , :], emb[:,1 , :], emb[:,2 , :]], 1) Which means we take a list of 0th letters, 1st letters and 2nd letters and squash them\n",
    "\n",
    "#BUUUUUT! This is not very efficient... There is a better way\n",
    "\n",
    "#Each tensor stores something called .storage(), this is a one dimensional representation of the tensor, because thats how it is stored in PC memory\n",
    "#The method .view() manipulates how this originally one-dim tensor (or array in simpler words) is interpreted by PyTorch, so no values are copied, no additional memory is needed etc.\n",
    "\n",
    "h = emb.view(32,6) @ W1 + b1 #Voilaaaaaa!!!\n",
    "\n",
    "#BUUUT: We dont want to hardcode numbers...\n",
    "h = emb.view(emb.shape[0], 6) @ W1 + b1\n",
    "#But why is 6 still here... Shuu Shuu go away... Well we already agreed on 3 input letters and 2 Dimensional embedings so its kinda okay...\n",
    "\n",
    "h = torch.tanh(h) #Look at the image, the layer is non linear, it is a tanh \n",
    "h"
   ]
  },
  {
   "cell_type": "markdown",
   "metadata": {},
   "source": [
    "<img src= \"Screenshot 2024-05-14 150859.png\" width= \"300\n",
    "\"><img src= \"tanh.jpg\" width= \"300\n",
    "\">\n",
    "<img src= \"hyperbolic functions.png\" width= \"300\n",
    "\">\n",
    "https://www.youtube.com/watch?v=HnHnEnkZpJA Video zum Thema hyperbolic trigonmometric functions"
   ]
  },
  {
   "cell_type": "code",
   "execution_count": 10,
   "metadata": {},
   "outputs": [],
   "source": [
    "#Now we create our Output layer:\n",
    "W2 = torch.randn((100, 27))\n",
    "b2 = torch.randn(27)\n",
    "#Again lets take a moment here. We create a layer with 27 Neurons where each neuron gets 100 inputs from the 100 neurons of the previous layer\n",
    "logits = h @ W2 + b2 #What are logits? Logits are the outputs of a neural network. Usually, we plug the outputs to a softmax in order to receive a probability distribution \n",
    "counts = logits.exp()\n",
    "prob =  counts / counts.sum(1, keepdim= True) #Look at the image below. This is softmax"
   ]
  },
  {
   "cell_type": "markdown",
   "metadata": {},
   "source": [
    "<img src=\"th-1496899846.png\" alt=\"Example Image\" width=\"300\" >\n",
    "</br>\n",
    "We take our \"counts\" and transform them into probs below </br></br>\n",
    "<img src=\"probrow.png\" alt=\"Example Image\" width=\"300\" >\n",
    "</br> \n",
    "As you can see the probability distribution for each of the X Inputs is one\n",
    "\n",
    "Logits have the shape [x, 100] @ [100, 27] -> [x, 27], where x is every encoded example as a row and 27 is the prob distribution for each character which sums up to one in every row"
   ]
  },
  {
   "cell_type": "markdown",
   "metadata": {},
   "source": [
    "</br></br>\n",
    "Now lets us look at the following:"
   ]
  },
  {
   "cell_type": "code",
   "execution_count": 11,
   "metadata": {},
   "outputs": [
    {
     "name": "stdout",
     "output_type": "stream",
     "text": [
      "tensor([3.5790e-07, 5.2469e-10, 1.5271e-07, 4.7128e-03, 1.5215e-06, 7.5453e-08,\n",
      "        1.1110e-05, 3.7565e-03, 4.0755e-04, 5.1843e-09, 2.4897e-03, 2.6221e-02,\n",
      "        4.3710e-02, 1.8292e-13, 2.3475e-08, 3.0759e-06, 2.7438e-02, 2.2417e-08,\n",
      "        1.3474e-04, 2.5303e-08, 1.6899e-13, 1.0194e-13, 2.0340e-09, 5.5721e-06,\n",
      "        1.8749e-07, 4.3529e-07, 2.1151e-08, 2.7649e-13, 4.1849e-06, 1.0031e-06,\n",
      "        3.6157e-04, 5.3946e-03])\n"
     ]
    },
    {
     "data": {
      "text/plain": [
       "tensor(14.3252)"
      ]
     },
     "execution_count": 11,
     "metadata": {},
     "output_type": "execute_result"
    }
   ],
   "source": [
    "enumerator = torch.arange(prob.size(dim = 0))\n",
    "print(prob[enumerator, Y])\n",
    "nll = -prob[enumerator, Y].log().mean() #We put all values from the table below and log them, then we take an average and then we take it by -1 to get a positive number\n",
    "nll # <- Negative Log likelihood"
   ]
  },
  {
   "cell_type": "markdown",
   "metadata": {},
   "source": [
    "We can calculate the loss in a much easier way with a built in PyTorch function. Use in practice the expression below for better efficiency. Also backwardpass is much easier\n",
    "Additionally there is one more problem. Look at the image:</br>\n",
    "<img src=\"exp problem.png\" alt=\"Example Image\" width=\"300\" > </br>\n",
    "when some logits get extreme positve values we run out of range (inf) and get a prob nan(Not a number), we can avoid it with the built in function.\n",
    "BUT how does PyTorch make it work? It turns out if you subtract a constant from all logits then we dont affect the prob distribution, so PyTorch looks for the biggest logit and substracts its value from all the logits so when end up with negative logits and 0. Now we can calculate the probs without the (inf) problem and still get the correct result"
   ]
  },
  {
   "cell_type": "code",
   "execution_count": 12,
   "metadata": {},
   "outputs": [
    {
     "data": {
      "text/plain": [
       "tensor(14.3252)"
      ]
     },
     "execution_count": 12,
     "metadata": {},
     "output_type": "execute_result"
    }
   ],
   "source": [
    "F.cross_entropy(logits, Y)"
   ]
  },
  {
   "cell_type": "markdown",
   "metadata": {},
   "source": [
    "What does it mean? We print for every row of prob the current probability we give to the actual correct next character (Y if you remember are our labels)\n",
    "Then as you might recall we calculate the negative log likelihood, which we will try to minimize, for our network.\n"
   ]
  },
  {
   "cell_type": "code",
   "execution_count": 13,
   "metadata": {},
   "outputs": [
    {
     "data": {
      "text/plain": [
       "3481"
      ]
     },
     "execution_count": 13,
     "metadata": {},
     "output_type": "execute_result"
    }
   ],
   "source": [
    "parameters = [C, W1, b1, W2, b2]\n",
    "sum(p.nelement() for p in parameters)"
   ]
  },
  {
   "cell_type": "markdown",
   "metadata": {},
   "source": [
    "## Summary \n",
    "we now rewrite some bits to bring it all together and create the training loop"
   ]
  },
  {
   "cell_type": "code",
   "execution_count": 14,
   "metadata": {},
   "outputs": [],
   "source": [
    "for p in parameters:\n",
    "    p.requires_grad = True"
   ]
  },
  {
   "cell_type": "code",
   "execution_count": 15,
   "metadata": {},
   "outputs": [
    {
     "name": "stdout",
     "output_type": "stream",
     "text": [
      "14.325213432312012\n",
      "11.982430458068848\n",
      "10.220831871032715\n",
      "8.702925682067871\n",
      "7.3887553215026855\n",
      "6.328695774078369\n",
      "5.469142913818359\n",
      "4.77216911315918\n",
      "4.200589656829834\n",
      "3.739799737930298\n",
      "3.3725128173828125\n",
      "3.0751147270202637\n",
      "2.827094554901123\n",
      "2.613903284072876\n",
      "2.427619457244873\n",
      "2.2641453742980957\n",
      "2.1216273307800293\n",
      "1.9992173910140991\n",
      "1.8960778713226318\n",
      "1.8096643686294556\n",
      "1.7357988357543945\n",
      "1.6706061363220215\n",
      "1.6115896701812744\n",
      "1.5572744607925415\n",
      "1.5067917108535767\n",
      "1.4595671892166138\n",
      "1.4152036905288696\n",
      "1.3733752965927124\n",
      "1.3338028192520142\n",
      "1.2962285280227661\n",
      "1.2604249715805054\n",
      "1.2261946201324463\n",
      "1.193382740020752\n",
      "1.1618682146072388\n",
      "1.1315646171569824\n",
      "1.102411150932312\n",
      "1.0743657350540161\n",
      "1.0473992824554443\n",
      "1.0214893817901611\n",
      "0.9966167211532593\n",
      "0.9727603197097778\n",
      "0.9498977661132812\n",
      "0.9280011653900146\n",
      "0.9070386290550232\n",
      "0.8869746923446655\n",
      "0.8677703738212585\n",
      "0.8493843674659729\n",
      "0.8317756652832031\n",
      "0.8149025440216064\n",
      "0.7987240552902222\n",
      "0.7832013368606567\n",
      "0.7682971358299255\n",
      "0.7539762258529663\n",
      "0.7402052879333496\n",
      "0.72695392370224\n",
      "0.7141934633255005\n",
      "0.7018969058990479\n",
      "0.6900404691696167\n",
      "0.6785998940467834\n",
      "0.6675555109977722\n",
      "0.6568871736526489\n",
      "0.6465762853622437\n",
      "0.6366063952445984\n",
      "0.6269621849060059\n",
      "0.6176289916038513\n",
      "0.6085935235023499\n",
      "0.5998427867889404\n",
      "0.5913658142089844\n",
      "0.58315110206604\n",
      "0.5751890540122986\n",
      "0.5674697160720825\n",
      "0.5599844455718994\n",
      "0.5527244210243225\n",
      "0.5456821322441101\n",
      "0.5388495326042175\n",
      "0.532220184803009\n",
      "0.5257865786552429\n",
      "0.5195428729057312\n",
      "0.5134826898574829\n",
      "0.5075998902320862\n",
      "0.501889169216156\n",
      "0.4963449537754059\n",
      "0.49096208810806274\n",
      "0.48573559522628784\n",
      "0.4806602895259857\n",
      "0.4757322669029236\n",
      "0.47094637155532837\n",
      "0.46629834175109863\n",
      "0.46178463101387024\n",
      "0.4573998749256134\n",
      "0.45314136147499084\n",
      "0.44900479912757874\n",
      "0.44498637318611145\n",
      "0.441082626581192\n",
      "0.43728989362716675\n",
      "0.4336054027080536\n",
      "0.43002504110336304\n",
      "0.4265460968017578\n",
      "0.42316538095474243\n",
      "0.41987985372543335\n"
     ]
    }
   ],
   "source": [
    "for _ in range (100):\n",
    "    #forward pass\n",
    "    emb = C[X]\n",
    "    h = torch.tanh(emb.view(-1,6) @ W1 + b1) \n",
    "    logits = h @ W2 + b2 \n",
    "    loss = F.cross_entropy(logits, Y)\n",
    "    print(loss.item())\n",
    "    #backward pass\n",
    "    for p in parameters:\n",
    "        p.grad = None\n",
    "    loss.backward()\n",
    "    #update\n",
    "    for p in parameters:\n",
    "        p.data += -0.1 * p.grad"
   ]
  },
  {
   "cell_type": "markdown",
   "metadata": {},
   "source": [
    "### Overfitting:\n",
    "At first we only worked with the first 5 words, so our Model with over 3000 Params overfitted the data extremly, but nevertheless we didnt get loss = 0. Why? It's because already in the data set with have ambiguities like ... -> e and ... -> o </br>\n",
    "This means we can not possibly fit our current model perfectly to the data already. \n",
    "### Now lets look at training the entire data set: \n",
    "Yet again we copy the code for better visibility:"
   ]
  },
  {
   "cell_type": "code",
   "execution_count": 16,
   "metadata": {},
   "outputs": [],
   "source": [
    "# build the dataset but this time with all words\n",
    "\n",
    "block_size = 3 #Number of characters used to predict the next one \n",
    "X, Y = [], [] #X are the inputs, Y are the labels\n",
    "for w in words:\n",
    "    context = [0] * block_size\n",
    "    for ch in w + \".\":\n",
    "        ix = stoi[ch]\n",
    "        X.append(context)\n",
    "        Y.append(ix)\n",
    "        context = context[1:] + [ix]\n",
    "\n",
    "X = torch.tensor(X)\n",
    "Y = torch.tensor(Y)\n",
    "\n",
    "#Init the embedings C, the params W1, b1, W2, p2\n",
    "C = torch.randn((27, 2)) \n",
    "W1 = torch.randn((6,100))\n",
    "b1 = torch.randn(100) #Every neuron also gets a random bias \n",
    "W2 = torch.randn((100, 27))\n",
    "b2 = torch.randn(27)\n",
    "parameters = [C, W1, b1, W2, b2]\n",
    "for p in parameters: \n",
    "    p.requires_grad = True"
   ]
  },
  {
   "cell_type": "markdown",
   "metadata": {},
   "source": [
    "Now we encounter a performance issue, as the training takes really long... The solutions are Minibatches! We calculate the gradient based on some randomly choosen samples (batches). This leads to 2 things:\n",
    "    - Our gradient is of lower quality\n",
    "    - Our trainigssteps are much faster\n",
    "In reality it is better to have a good estimate of the gradient (\"direction we move towards to\") and make more steps then have a precise value and do fewer steps\n",
    "\n",
    "ix = torch.randint(0, X.shape[0], (32,)):\n",
    "- Generates random 32 integers in a tuple from 0 to the length of X (number of examples)\n",
    "\n",
    "emb = C[X[ix]]:\n",
    "- We create a tuple of our embeded Vectors into the 2D space, but only of those 32 from the minibatch"
   ]
  },
  {
   "cell_type": "code",
   "execution_count": 17,
   "metadata": {},
   "outputs": [
    {
     "name": "stdout",
     "output_type": "stream",
     "text": [
      "2.403756856918335\n"
     ]
    }
   ],
   "source": [
    "for _ in range (10000):\n",
    "    ix = torch.randint(0, X.shape[0], (32,)) #Generates random 32 integers in a tuple from 0 to the length of X (number of examples)\n",
    "\n",
    "    #forward pass\n",
    "    emb = C[X[ix]]\n",
    "    h = torch.tanh(emb.view(-1,6) @ W1 + b1) \n",
    "    logits = h @ W2 + b2 \n",
    "    loss = F.cross_entropy(logits, Y[ix])\n",
    "    \n",
    "    #backward pass\n",
    "    for p in parameters:\n",
    "        p.grad = None\n",
    "    loss.backward()\n",
    "    #update\n",
    "    for p in parameters:\n",
    "        p.data += -0.1 * p.grad\n",
    "print(loss.item()) #Warning... This loss is calculated for the last minibatch not the entire set. Look below"
   ]
  },
  {
   "cell_type": "code",
   "execution_count": 18,
   "metadata": {},
   "outputs": [
    {
     "data": {
      "text/plain": [
       "2.481839656829834"
      ]
     },
     "execution_count": 18,
     "metadata": {},
     "output_type": "execute_result"
    }
   ],
   "source": [
    "#We calculate the loss for the entire set\n",
    "emb = C[X]\n",
    "h = torch.tanh(emb.view(-1,6) @ W1 + b1) \n",
    "logits = h @ W2 + b2 \n",
    "loss = F.cross_entropy(logits, Y)\n",
    "loss.item()"
   ]
  },
  {
   "cell_type": "markdown",
   "metadata": {},
   "source": [
    "### Our learning steps are currently 0.1, but it is just random... How to determine a good value?\n",
    "\n",
    "Step 1: \n",
    "- We try a couple of values like 0.0001 0.001 0.1 1 10 etc. and see where our steps are way to big (the loss is just jumping around like a kid with ADHD)\n",
    "Step 2:\n",
    "- We create an exponential distribution of the learning steps where the initial steps are small and later steps are bigger\n",
    "Step 3: \n",
    "- For each iteration apply a new learning rate and track the loss\n",
    "Step 4:\n",
    "- Plot it and choose the minimum value"
   ]
  },
  {
   "cell_type": "code",
   "execution_count": 19,
   "metadata": {},
   "outputs": [],
   "source": [
    "learningRateExponent = torch.linspace(-3, 0 ,1000)\n",
    "learningRateSteps = 10**learningRateExponent\n",
    "learningRateI = []\n",
    "lossI = []\n",
    "for i in range (1000):\n",
    "    ix = torch.randint(0, X.shape[0], (32,)) #Generates random 32 integers in a tuple from 0 to the length of X (number of examples)\n",
    "\n",
    "    #forward pass\n",
    "    emb = C[X[ix]]\n",
    "    h = torch.tanh(emb.view(-1,6) @ W1 + b1) \n",
    "    logits = h @ W2 + b2 \n",
    "    loss = F.cross_entropy(logits, Y[ix])\n",
    "    \n",
    "    #backward pass\n",
    "    for p in parameters:\n",
    "        p.grad = None\n",
    "    loss.backward()\n",
    "    #update\n",
    "    learningRate = learningRateSteps[i]\n",
    "    for p in parameters:\n",
    "        p.data += -learningRate * p.grad\n",
    "    #Track the learning rates\n",
    "    learningRateI.append(learningRateExponent[i])\n",
    "    lossI.append(loss.item())\n"
   ]
  },
  {
   "cell_type": "code",
   "execution_count": 20,
   "metadata": {},
   "outputs": [
    {
     "data": {
      "text/plain": [
       "[<matplotlib.lines.Line2D at 0x173071b6e50>]"
      ]
     },
     "execution_count": 20,
     "metadata": {},
     "output_type": "execute_result"
    },
    {
     "data": {
      "image/png": "[encoded data removed]",
      "text/plain": [
       "<Figure size 640x480 with 1 Axes>"
      ]
     },
     "metadata": {},
     "output_type": "display_data"
    }
   ],
   "source": [
    "plt.plot(learningRateI, lossI)"
   ]
  },
  {
   "cell_type": "markdown",
   "metadata": {},
   "source": [
    "As it turns out our guess that 10**-1 = 0.1 is a good learning step turned out to be good.\n",
    "\n",
    "In practice we would also make our learning rate decay... As our loss gets smaller and starts to stagnate we decrease it to minimize the risk of overshooting"
   ]
  },
  {
   "cell_type": "markdown",
   "metadata": {},
   "source": [
    "## Splitting the Data Set and Quailty evalution\n",
    "\n",
    "In practice we split our data to e.g: 80% Training Data, 10% Dev/Validation Data, 10% Test Data\n",
    "- Training Data is used for paramter optimazation\n",
    "- Validation Data is used for hyperparameter optimization (number of parameters, number of hidden layers), we basically try a lot of combination to see which works best in our case\n",
    "- Test is for quality evaluation (WARNING: If you test to often, then your model will more and more learn from your test data, and start overfitting the test!!!)"
   ]
  },
  {
   "cell_type": "code",
   "execution_count": 21,
   "metadata": {},
   "outputs": [
    {
     "name": "stdout",
     "output_type": "stream",
     "text": [
      "torch.Size([182625, 3]) torch.Size([182625])\n",
      "torch.Size([22655, 3]) torch.Size([22655])\n",
      "torch.Size([22866, 3]) torch.Size([22866])\n"
     ]
    }
   ],
   "source": [
    "# build the dataset but this time with all words\n",
    "\n",
    "def build_dataset(words):\n",
    "    block_size = 3 #Number of characters used to predict the next one \n",
    "    X, Y = [], [] #X are the inputs, Y are the labels\n",
    "    for w in words:\n",
    "        context = [0] * block_size\n",
    "        for ch in w + \".\":\n",
    "            ix = stoi[ch]\n",
    "            X.append(context)\n",
    "            Y.append(ix)\n",
    "            context = context[1:] + [ix]\n",
    "\n",
    "    X = torch.tensor(X)\n",
    "    Y = torch.tensor(Y)\n",
    "    print(X.shape, Y.shape)\n",
    "    return X, Y\n",
    "\n",
    "import random\n",
    "random.seed(42)\n",
    "random.shuffle(words) #We shuffle the words\n",
    "n1 = int(0.8 * len(words)) #We calculate where 80% and 90% is\n",
    "n2 = int (0.9 * len (words))\n",
    "\n",
    "Xtr, Ytr = build_dataset(words[:n1]) #Trainingset is from 0-80%\n",
    "Xdev, Ydev = build_dataset(words[n1:n2]) #Devset is from 80-90%\n",
    "Xte, Yte = build_dataset(words[n2:]) #Test set is from 90-100%\n",
    "\n",
    "\n",
    "\n",
    "#Init the embedings C, the params W1, b1, W2, p2\n",
    "C = torch.randn((27, 2)) \n",
    "W1 = torch.randn((6,100))\n",
    "b1 = torch.randn(100) #Every neuron also gets a random bias \n",
    "W2 = torch.randn((100, 27))\n",
    "b2 = torch.randn(27)\n",
    "parameters = [C, W1, b1, W2, b2]\n",
    "for p in parameters: \n",
    "    p.requires_grad = True"
   ]
  },
  {
   "cell_type": "code",
   "execution_count": 24,
   "metadata": {},
   "outputs": [
    {
     "name": "stdout",
     "output_type": "stream",
     "text": [
      "1.967052936553955\n"
     ]
    }
   ],
   "source": [
    "#Training Loop but this time only on traingset\n",
    "for _ in range (3000):\n",
    "    ix = torch.randint(0, Xtr.shape[0], (32,)) #Generates random 32 integers in a tuple from 0 to the length of X (number of examples)\n",
    "\n",
    "    #forward pass\n",
    "    emb = C[Xtr[ix]]\n",
    "    h = torch.tanh(emb.view(-1,6) @ W1 + b1) \n",
    "    logits = h @ W2 + b2 \n",
    "    loss = F.cross_entropy(logits, Ytr[ix])\n",
    "    \n",
    "    #backward pass\n",
    "    for p in parameters:\n",
    "        p.grad = None\n",
    "    loss.backward()\n",
    "    #update\n",
    "    for p in parameters:\n",
    "        p.data += -0.1 * p.grad\n",
    "print(loss.item()) #Warning... This loss is calculated for the last minibatch not the entire set. Look below"
   ]
  },
  {
   "cell_type": "markdown",
   "metadata": {},
   "source": [
    "This time we evaluate using the Dev set"
   ]
  },
  {
   "cell_type": "code",
   "execution_count": 26,
   "metadata": {},
   "outputs": [
    {
     "name": "stdout",
     "output_type": "stream",
     "text": [
      "2.298285484313965\n"
     ]
    },
    {
     "data": {
      "text/plain": [
       "2.286815643310547"
      ]
     },
     "execution_count": 26,
     "metadata": {},
     "output_type": "execute_result"
    }
   ],
   "source": [
    "#We calculate the loss for the entire set\n",
    "emb = C[Xdev]\n",
    "h = torch.tanh(emb.view(-1,6) @ W1 + b1) \n",
    "logits = h @ W2 + b2 \n",
    "loss = F.cross_entropy(logits, Ydev)\n",
    "print(loss.item())\n",
    "\n",
    "emb = C[Xtr]\n",
    "h = torch.tanh(emb.view(-1,6) @ W1 + b1) \n",
    "logits = h @ W2 + b2 \n",
    "loss = F.cross_entropy(logits, Ytr)\n",
    "loss.item()"
   ]
  },
  {
   "cell_type": "markdown",
   "metadata": {},
   "source": [
    "# Underfitting\n",
    "We have both a high loss on the Training Data and the Validation Data -> We are underfitting. \n",
    "Let us scale our model in order to be be able to capture the complexity of the task better\n",
    "\n",
    "Tasks:\n",
    "- Increase the number of Neurons in the hidden layer \n",
    "- Increase the dimension of the letter embedings from 2D to 10 Dimensions"
   ]
  },
  {
   "cell_type": "code",
   "execution_count": 27,
   "metadata": {},
   "outputs": [
    {
     "name": "stdout",
     "output_type": "stream",
     "text": [
      "torch.Size([182580, 3]) torch.Size([182580])\n",
      "torch.Size([22767, 3]) torch.Size([22767])\n",
      "torch.Size([22799, 3]) torch.Size([22799])\n"
     ]
    }
   ],
   "source": [
    "# build the dataset but this time with all words\n",
    "\n",
    "def build_dataset(words):\n",
    "    block_size = 3 #Number of characters used to predict the next one \n",
    "    X, Y = [], [] #X are the inputs, Y are the labels\n",
    "    for w in words:\n",
    "        context = [0] * block_size\n",
    "        for ch in w + \".\":\n",
    "            ix = stoi[ch]\n",
    "            X.append(context)\n",
    "            Y.append(ix)\n",
    "            context = context[1:] + [ix]\n",
    "\n",
    "    X = torch.tensor(X)\n",
    "    Y = torch.tensor(Y)\n",
    "    print(X.shape, Y.shape)\n",
    "    return X, Y\n",
    "\n",
    "import random\n",
    "random.seed(42)\n",
    "random.shuffle(words) #We shuffle the words\n",
    "n1 = int(0.8 * len(words)) #We calculate where 80% and 90% is\n",
    "n2 = int (0.9 * len (words))\n",
    "\n",
    "Xtr, Ytr = build_dataset(words[:n1]) #Trainingset is from 0-80%\n",
    "Xdev, Ydev = build_dataset(words[n1:n2]) #Devset is from 80-90%\n",
    "Xte, Yte = build_dataset(words[n2:]) #Test set is from 90-100%\n",
    "\n",
    "\n",
    "\n",
    "#Init the embedings C, the params W1, b1, W2, p2\n",
    "C = torch.randn((27, 10)) \n",
    "W1 = torch.randn((30,200))\n",
    "b1 = torch.randn(200) #Every neuron also gets a random bias \n",
    "W2 = torch.randn((200, 27))\n",
    "b2 = torch.randn(27)\n",
    "parameters = [C, W1, b1, W2, b2]\n",
    "for p in parameters: \n",
    "    p.requires_grad = True"
   ]
  },
  {
   "cell_type": "code",
   "execution_count": 28,
   "metadata": {},
   "outputs": [],
   "source": [
    "lossI = []\n",
    "stepI = []"
   ]
  },
  {
   "cell_type": "code",
   "execution_count": 35,
   "metadata": {},
   "outputs": [],
   "source": [
    "#Training Loop but this time only on traingset\n",
    "for i in range (50000):\n",
    "    ix = torch.randint(0, Xtr.shape[0], (32,)) #Generates random 32 integers in a tuple from 0 to the length of X (number of examples)\n",
    "\n",
    "    #forward pass\n",
    "    emb = C[Xtr[ix]]\n",
    "    h = torch.tanh(emb.view(-1, 30) @ W1 + b1) \n",
    "    logits = h @ W2 + b2 \n",
    "    loss = F.cross_entropy(logits, Ytr[ix])\n",
    "    \n",
    "    #backward pass\n",
    "    for p in parameters:\n",
    "        p.grad = None\n",
    "    loss.backward()\n",
    "    #update\n",
    "    for p in parameters:\n",
    "        p.data += -0.01 * p.grad\n",
    "\n",
    "    stepI.append(i)\n",
    "    lossI.append(loss.log10().item())\n",
    "#print(loss.item()) #Warning... This loss is calculated for the last minibatch not the entire set. Look below"
   ]
  },
  {
   "cell_type": "code",
   "execution_count": 31,
   "metadata": {},
   "outputs": [
    {
     "data": {
      "text/plain": [
       "[<matplotlib.lines.Line2D at 0x173071bf790>]"
      ]
     },
     "execution_count": 31,
     "metadata": {},
     "output_type": "execute_result"
    },
    {
     "data": {
      "image/png": "[encoded data removed]",
      "text/plain": [
       "<Figure size 640x480 with 1 Axes>"
      ]
     },
     "metadata": {},
     "output_type": "display_data"
    }
   ],
   "source": [
    "plt.plot(stepI, lossI)"
   ]
  },
  {
   "cell_type": "code",
   "execution_count": 32,
   "metadata": {},
   "outputs": [
    {
     "name": "stdout",
     "output_type": "stream",
     "text": [
      "3.202627420425415\n"
     ]
    },
    {
     "data": {
      "text/plain": [
       "3.1928927898406982"
      ]
     },
     "execution_count": 32,
     "metadata": {},
     "output_type": "execute_result"
    }
   ],
   "source": [
    "#We calculate the loss for the entire set\n",
    "emb = C[Xdev]\n",
    "h = torch.tanh(emb.view(-1,30) @ W1 + b1) \n",
    "logits = h @ W2 + b2 \n",
    "loss = F.cross_entropy(logits, Ydev)\n",
    "print(loss.item())\n",
    "\n",
    "emb = C[Xtr]\n",
    "h = torch.tanh(emb.view(-1,30) @ W1 + b1) \n",
    "logits = h @ W2 + b2 \n",
    "loss = F.cross_entropy(logits, Ytr)\n",
    "loss.item()"
   ]
  },
  {
   "cell_type": "code",
   "execution_count": 34,
   "metadata": {},
   "outputs": [
    {
     "name": "stdout",
     "output_type": "stream",
     "text": [
      "eria.\n",
      "kmlanliel.\n",
      "mel.\n",
      "ryla.\n",
      "renyas.\n",
      "ensrlon.\n",
      "adeled.\n",
      "eliu.\n",
      "shyorelle.\n",
      "elioaranar.\n",
      "katuimavya.\n",
      "ciystdnto.\n",
      "dha.\n",
      "jest.\n",
      "jene.\n",
      "jen.\n",
      "pen.\n",
      "pri.\n",
      "kubdny.\n",
      "dev.\n"
     ]
    }
   ],
   "source": [
    "# sample from the model\n",
    "g = torch.Generator().manual_seed(2147483647 + 10)\n",
    "\n",
    "for _ in range(20):\n",
    "    out = []\n",
    "    context = [0] * block_size # initialize with all ...\n",
    "    while True:\n",
    "        emb = C[torch.tensor([context])] # (1,block_size,d)\n",
    "        h = torch.tanh(emb.view(1, -1) @ W1 + b1)\n",
    "        logits = h @ W2 + b2\n",
    "        probs = F.softmax(logits, dim=1)\n",
    "        ix = torch.multinomial(probs, num_samples=1, generator=g).item()\n",
    "        context = context[1:] + [ix]\n",
    "        out.append(ix)\n",
    "        if ix == 0:\n",
    "            break\n",
    "\n",
    "    print(''.join(itos[i] for i in out))\n"
   ]
  }
 ],
 "metadata": {
  "kernelspec": {
   "display_name": "base",
   "language": "python",
   "name": "python3"
  },
  "language_info": {
   "codemirror_mode": {
    "name": "ipython",
    "version": 3
   },
   "file_extension": ".py",
   "mimetype": "text/x-python",
   "name": "python",
   "nbconvert_exporter": "python",
   "pygments_lexer": "ipython3",
   "version": "3.11.7"
  }
 },
 "nbformat": 4,
 "nbformat_minor": 2
}
